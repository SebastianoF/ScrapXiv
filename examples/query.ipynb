{
 "cells": [
  {
   "cell_type": "markdown",
   "metadata": {},
   "source": [
    "# Basic query examples"
   ]
  },
  {
   "cell_type": "markdown",
   "metadata": {},
   "source": [
    "## Example\n",
    "\n",
    "Parse the authors name of the 14th paper in the paper list queried with \"particles\", and the following 10."
   ]
  },
  {
   "cell_type": "code",
   "execution_count": 1,
   "metadata": {},
   "outputs": [],
   "source": [
    "from pprint import pprint\n",
    "from scrapxiv.shelf import Shelf"
   ]
  },
  {
   "cell_type": "markdown",
   "metadata": {},
   "source": [
    "Intialise a shelf with a query for deep learning papers, starting from the 14th paper in the output query, and getting the first 10 results:"
   ]
  },
  {
   "cell_type": "code",
   "execution_count": 21,
   "metadata": {},
   "outputs": [],
   "source": [
    "shelf = Shelf()\n",
    "shelf.query(keywords=\"deep learning\", start_index=14, max_results=10)"
   ]
  },
  {
   "cell_type": "markdown",
   "metadata": {},
   "source": [
    "Getting the basic information of the papers in the shelf:"
   ]
  },
  {
   "cell_type": "code",
   "execution_count": 24,
   "metadata": {},
   "outputs": [
    {
     "output_type": "execute_result",
     "data": {
      "text/plain": "['1801.07883v2',\n '1710.06798v1',\n '1801.00631v1',\n '1802.00810v2',\n '1807.06399v1',\n '1708.05866v2',\n '2005.10247v1',\n '1703.02910v1',\n '2004.00993v2',\n '1807.04739v1']"
     },
     "metadata": {},
     "execution_count": 24
    }
   ],
   "source": [
    "shelf.get_papers_ids()"
   ]
  },
  {
   "cell_type": "code",
   "execution_count": 26,
   "metadata": {},
   "outputs": [
    {
     "output_type": "stream",
     "name": "stdout",
     "text": "{'1703.02910v1': {'authors': ['Yarin Gal',\n                              'Riashat Islam',\n                              'Zoubin Ghahramani'],\n                  'date': '2017-03-08T16:53:57Z',\n                  'title': 'Deep Bayesian Active Learning with Image Data'},\n '1708.05866v2': {'authors': ['Kai Arulkumaran',\n                              'Marc Peter Deisenroth',\n                              'Miles Brundage',\n                              'Anil Anthony Bharath'],\n                  'date': '2017-08-19T15:55:31Z',\n                  'title': 'A Brief Survey of Deep Reinforcement Learning'},\n '1710.06798v1': {'authors': ['Jaya Thomas', 'Sonia Thomas', 'Lee Sael'],\n                  'date': '2017-10-17T14:09:00Z',\n                  'title': 'Feature versus Raw Sequence: Deep Learning '\n                           'Comparative Study onPredicting Pre-miRNA'},\n '1801.00631v1': {'authors': ['Gary Marcus'],\n                  'date': '2018-01-02T12:49:35Z',\n                  'title': 'Deep Learning: A Critical Appraisal'},\n '1801.07883v2': {'authors': ['Lei Zhang', 'Shuai Wang', 'Bing Liu'],\n                  'date': '2018-01-24T07:32:29Z',\n                  'title': 'Deep Learning for Sentiment Analysis : A Survey'},\n '1802.00810v2': {'authors': ['Tianwei Yue', 'Haohan Wang'],\n                  'date': '2018-02-02T12:50:25Z',\n                  'title': 'Deep Learning for Genomics: A Concise Overview'},\n '1807.04739v1': {'authors': ['Majd Latah'],\n                  'date': '2018-07-12T17:44:42Z',\n                  'title': 'When deep learning meets security'},\n '1807.06399v1': {'authors': ['Maxwell Nye', 'Andrew Saxe'],\n                  'date': '2018-07-17T13:08:21Z',\n                  'title': 'Are Efficient Deep Representations Learnable?'},\n '2004.00993v2': {'authors': ['Xiao Lei Zhang', 'Anish Agarwal'],\n                  'date': '2020-03-31T18:08:23Z',\n                  'title': 'Augmented Q Imitation Learning (AQIL)'},\n '2005.10247v1': {'authors': ['Alexander Robey',\n                              'Hamed Hassani',\n                              'George J. Pappas'],\n                  'date': '2020-05-20T13:46:31Z',\n                  'title': 'Model-Based Robust Deep Learning'}}\n"
    }
   ],
   "source": [
    "from pprint import pprint\n",
    "pprint(shelf.get_papers_info())"
   ]
  },
  {
   "cell_type": "markdown",
   "metadata": {},
   "source": [
    "Download all the papers in the shelf in a local folder:"
   ]
  },
  {
   "cell_type": "code",
   "execution_count": 28,
   "metadata": {},
   "outputs": [
    {
     "output_type": "stream",
     "name": "stdout",
     "text": "Downloading papers (in multi-threading...)\nDownload paper http://arxiv.org/pdf/1710.06798v1.pdf finished.\nDownload paper http://arxiv.org/pdf/1801.00631v1.pdf finished.\nDownload paper http://arxiv.org/pdf/1802.00810v2.pdf finished.\nDownload paper http://arxiv.org/pdf/1807.06399v1.pdf finished.\nDownload paper http://arxiv.org/pdf/1703.02910v1.pdf finished.\nDownload paper http://arxiv.org/pdf/1807.04739v1.pdf finished.\nDownload paper http://arxiv.org/pdf/2004.00993v2.pdf finished.\nDownload paper http://arxiv.org/pdf/1708.05866v2.pdf finished.\nDownload paper http://arxiv.org/pdf/1801.07883v2.pdf finished.\nDownload paper http://arxiv.org/pdf/2005.10247v1.pdf finished.\n[Errno 104] Connection reset by peer\n"
    },
    {
     "output_type": "error",
     "ename": "AttributeError",
     "evalue": "'ThreadPoolExecutor' object has no attribute 'close'",
     "traceback": [
      "\u001b[1;31m---------------------------------------------------------------------------\u001b[0m",
      "\u001b[1;31mAttributeError\u001b[0m                            Traceback (most recent call last)",
      "\u001b[1;32m<ipython-input-28-ea97ab711f54>\u001b[0m in \u001b[0;36m<module>\u001b[1;34m\u001b[0m\n\u001b[0;32m      1\u001b[0m \u001b[0mshelf\u001b[0m\u001b[1;33m.\u001b[0m\u001b[0mclean_download_folder\u001b[0m\u001b[1;33m(\u001b[0m\u001b[1;33m)\u001b[0m\u001b[1;33m\u001b[0m\u001b[1;33m\u001b[0m\u001b[0m\n\u001b[1;32m----> 2\u001b[1;33m \u001b[0mshelf\u001b[0m\u001b[1;33m.\u001b[0m\u001b[0mdownload_papers\u001b[0m\u001b[1;33m(\u001b[0m\u001b[1;33m)\u001b[0m\u001b[1;33m\u001b[0m\u001b[1;33m\u001b[0m\u001b[0m\n\u001b[0m",
      "\u001b[1;32m~/repos/arxiv_authors_parser/scrapxiv/shelf.py\u001b[0m in \u001b[0;36mdownload_papers\u001b[1;34m(self)\u001b[0m\n\u001b[0;32m    190\u001b[0m             \u001b[1;32mfor\u001b[0m \u001b[0mf\u001b[0m \u001b[1;32min\u001b[0m \u001b[0mconcurrent\u001b[0m\u001b[1;33m.\u001b[0m\u001b[0mfutures\u001b[0m\u001b[1;33m.\u001b[0m\u001b[0mas_completed\u001b[0m\u001b[1;33m(\u001b[0m\u001b[0mfutures\u001b[0m\u001b[1;33m)\u001b[0m\u001b[1;33m:\u001b[0m\u001b[1;33m\u001b[0m\u001b[1;33m\u001b[0m\u001b[0m\n\u001b[0;32m    191\u001b[0m                 \u001b[0mtotal_bytes\u001b[0m \u001b[1;33m+=\u001b[0m \u001b[0mf\u001b[0m\u001b[1;33m.\u001b[0m\u001b[0mresult\u001b[0m\u001b[1;33m(\u001b[0m\u001b[1;33m)\u001b[0m \u001b[1;32mor\u001b[0m \u001b[1;36m0\u001b[0m\u001b[1;33m\u001b[0m\u001b[1;33m\u001b[0m\u001b[0m\n\u001b[1;32m--> 192\u001b[1;33m             \u001b[0mexecutor\u001b[0m\u001b[1;33m.\u001b[0m\u001b[0mclose\u001b[0m\u001b[1;33m(\u001b[0m\u001b[1;33m)\u001b[0m\u001b[1;33m\u001b[0m\u001b[1;33m\u001b[0m\u001b[0m\n\u001b[0m\u001b[0;32m    193\u001b[0m \u001b[1;33m\u001b[0m\u001b[0m\n\u001b[0;32m    194\u001b[0m         \u001b[0mprint\u001b[0m\u001b[1;33m(\u001b[0m\u001b[1;34m\"\\nPapers already in the download folder: \"\u001b[0m\u001b[1;33m)\u001b[0m\u001b[1;33m\u001b[0m\u001b[1;33m\u001b[0m\u001b[0m\n",
      "\u001b[1;31mAttributeError\u001b[0m: 'ThreadPoolExecutor' object has no attribute 'close'"
     ]
    }
   ],
   "source": [
    "shelf.clean_download_folder()\n",
    "shelf.download_papers()"
   ]
  },
  {
   "cell_type": "code",
   "execution_count": 39,
   "metadata": {
    "tags": [
     "outputPrepend"
    ]
   },
   "outputs": [
    {
     "output_type": "execute_result",
     "data": {
      "text/plain": "                     name affiliation                   email      paper_id  \\\n0               Lei Zhang                  lzhang32@gmail.com  1801.07883v2   \n1              Shuai Wang               shuaiwanghk@gmail.com  1801.07883v2   \n2                Bing Liu                        liub@uic.edu  1801.07883v2   \n3             Jaya Thomas                                      1710.06798v1   \n4            Sonia Thomas                                      1710.06798v1   \n5                Lee Sael              sael@cs.stonybrook.edu  1710.06798v1   \n6             Gary Marcus                                      1801.00631v1   \n7             Tianwei Yue                 tyue@andrew.cmu.edu  1802.00810v2   \n8             Haohan Wang                  haohanw@cs.cmu.edu  1802.00810v2   \n9             Maxwell Nye                        mnye@mit.edu  1807.06399v1   \n10            Andrew Saxe               asaxe@fas.harvard.edu  1807.06399v1   \n11        Kai Arulkumaran                                      1708.05866v2   \n12  Marc Peter Deisenroth                                      1708.05866v2   \n13         Miles Brundage                                      1708.05866v2   \n14   Anil Anthony Bharath                                      1708.05866v2   \n15        Alexander Robey                                      2005.10247v1   \n16          Hamed Hassani                                      2005.10247v1   \n17       George J. Pappas                                      2005.10247v1   \n18              Yarin Gal                                      1703.02910v1   \n19          Riashat Islam                                      1703.02910v1   \n20      Zoubin Ghahramani                                      1703.02910v1   \n21         Xiao Lei Zhang               zhang205@cse.yorku.ca  2004.00993v2   \n22          Anish Agarwal                                      2004.00993v2   \n23             Majd Latah                 latahmajd@gmail.com  1807.04739v1   \n\n                                          paper_title  paper_published_date  \\\n0     Deep Learning for Sentiment Analysis : A Survey  2018-01-24T07:32:29Z   \n1     Deep Learning for Sentiment Analysis : A Survey  2018-01-24T07:32:29Z   \n2     Deep Learning for Sentiment Analysis : A Survey  2018-01-24T07:32:29Z   \n3   Feature versus Raw Sequence: Deep Learning Com...  2017-10-17T14:09:00Z   \n4   Feature versus Raw Sequence: Deep Learning Com...  2017-10-17T14:09:00Z   \n5   Feature versus Raw Sequence: Deep Learning Com...  2017-10-17T14:09:00Z   \n6                 Deep Learning: A Critical Appraisal  2018-01-02T12:49:35Z   \n7      Deep Learning for Genomics: A Concise Overview  2018-02-02T12:50:25Z   \n8      Deep Learning for Genomics: A Concise Overview  2018-02-02T12:50:25Z   \n9       Are Efficient Deep Representations Learnable?  2018-07-17T13:08:21Z   \n10      Are Efficient Deep Representations Learnable?  2018-07-17T13:08:21Z   \n11      A Brief Survey of Deep Reinforcement Learning  2017-08-19T15:55:31Z   \n12      A Brief Survey of Deep Reinforcement Learning  2017-08-19T15:55:31Z   \n13      A Brief Survey of Deep Reinforcement Learning  2017-08-19T15:55:31Z   \n14      A Brief Survey of Deep Reinforcement Learning  2017-08-19T15:55:31Z   \n15                   Model-Based Robust Deep Learning  2020-05-20T13:46:31Z   \n16                   Model-Based Robust Deep Learning  2020-05-20T13:46:31Z   \n17                   Model-Based Robust Deep Learning  2020-05-20T13:46:31Z   \n18      Deep Bayesian Active Learning with Image Data  2017-03-08T16:53:57Z   \n19      Deep Bayesian Active Learning with Image Data  2017-03-08T16:53:57Z   \n20      Deep Bayesian Active Learning with Image Data  2017-03-08T16:53:57Z   \n21              Augmented Q Imitation Learning (AQIL)  2020-03-31T18:08:23Z   \n22              Augmented Q Imitation Learning (AQIL)  2020-03-31T18:08:23Z   \n23                  When deep learning meets security  2018-07-12T17:44:42Z   \n\n   num_publications  \n0                 1  \n1                 1  \n2                 1  \n3                 1  \n4                 1  \n5                 1  \n6                 1  \n7                 1  \n8                 1  \n9                 1  \n10                1  \n11                1  \n12                1  \n13                1  \n14                1  \n15                1  \n16                1  \n17                1  \n18                1  \n19                1  \n20                1  \n21                1  \n22                1  \n23                1  ",
      "text/html": "<div>\n<style scoped>\n    .dataframe tbody tr th:only-of-type {\n        vertical-align: middle;\n    }\n\n    .dataframe tbody tr th {\n        vertical-align: top;\n    }\n\n    .dataframe thead th {\n        text-align: right;\n    }\n</style>\n<table border=\"1\" class=\"dataframe\">\n  <thead>\n    <tr style=\"text-align: right;\">\n      <th></th>\n      <th>name</th>\n      <th>affiliation</th>\n      <th>email</th>\n      <th>paper_id</th>\n      <th>paper_title</th>\n      <th>paper_published_date</th>\n      <th>num_publications</th>\n    </tr>\n  </thead>\n  <tbody>\n    <tr>\n      <th>0</th>\n      <td>Lei Zhang</td>\n      <td></td>\n      <td>lzhang32@gmail.com</td>\n      <td>1801.07883v2</td>\n      <td>Deep Learning for Sentiment Analysis : A Survey</td>\n      <td>2018-01-24T07:32:29Z</td>\n      <td>1</td>\n    </tr>\n    <tr>\n      <th>1</th>\n      <td>Shuai Wang</td>\n      <td></td>\n      <td>shuaiwanghk@gmail.com</td>\n      <td>1801.07883v2</td>\n      <td>Deep Learning for Sentiment Analysis : A Survey</td>\n      <td>2018-01-24T07:32:29Z</td>\n      <td>1</td>\n    </tr>\n    <tr>\n      <th>2</th>\n      <td>Bing Liu</td>\n      <td></td>\n      <td>liub@uic.edu</td>\n      <td>1801.07883v2</td>\n      <td>Deep Learning for Sentiment Analysis : A Survey</td>\n      <td>2018-01-24T07:32:29Z</td>\n      <td>1</td>\n    </tr>\n    <tr>\n      <th>3</th>\n      <td>Jaya Thomas</td>\n      <td></td>\n      <td></td>\n      <td>1710.06798v1</td>\n      <td>Feature versus Raw Sequence: Deep Learning Com...</td>\n      <td>2017-10-17T14:09:00Z</td>\n      <td>1</td>\n    </tr>\n    <tr>\n      <th>4</th>\n      <td>Sonia Thomas</td>\n      <td></td>\n      <td></td>\n      <td>1710.06798v1</td>\n      <td>Feature versus Raw Sequence: Deep Learning Com...</td>\n      <td>2017-10-17T14:09:00Z</td>\n      <td>1</td>\n    </tr>\n    <tr>\n      <th>5</th>\n      <td>Lee Sael</td>\n      <td></td>\n      <td>sael@cs.stonybrook.edu</td>\n      <td>1710.06798v1</td>\n      <td>Feature versus Raw Sequence: Deep Learning Com...</td>\n      <td>2017-10-17T14:09:00Z</td>\n      <td>1</td>\n    </tr>\n    <tr>\n      <th>6</th>\n      <td>Gary Marcus</td>\n      <td></td>\n      <td></td>\n      <td>1801.00631v1</td>\n      <td>Deep Learning: A Critical Appraisal</td>\n      <td>2018-01-02T12:49:35Z</td>\n      <td>1</td>\n    </tr>\n    <tr>\n      <th>7</th>\n      <td>Tianwei Yue</td>\n      <td></td>\n      <td>tyue@andrew.cmu.edu</td>\n      <td>1802.00810v2</td>\n      <td>Deep Learning for Genomics: A Concise Overview</td>\n      <td>2018-02-02T12:50:25Z</td>\n      <td>1</td>\n    </tr>\n    <tr>\n      <th>8</th>\n      <td>Haohan Wang</td>\n      <td></td>\n      <td>haohanw@cs.cmu.edu</td>\n      <td>1802.00810v2</td>\n      <td>Deep Learning for Genomics: A Concise Overview</td>\n      <td>2018-02-02T12:50:25Z</td>\n      <td>1</td>\n    </tr>\n    <tr>\n      <th>9</th>\n      <td>Maxwell Nye</td>\n      <td></td>\n      <td>mnye@mit.edu</td>\n      <td>1807.06399v1</td>\n      <td>Are Efficient Deep Representations Learnable?</td>\n      <td>2018-07-17T13:08:21Z</td>\n      <td>1</td>\n    </tr>\n    <tr>\n      <th>10</th>\n      <td>Andrew Saxe</td>\n      <td></td>\n      <td>asaxe@fas.harvard.edu</td>\n      <td>1807.06399v1</td>\n      <td>Are Efficient Deep Representations Learnable?</td>\n      <td>2018-07-17T13:08:21Z</td>\n      <td>1</td>\n    </tr>\n    <tr>\n      <th>11</th>\n      <td>Kai Arulkumaran</td>\n      <td></td>\n      <td></td>\n      <td>1708.05866v2</td>\n      <td>A Brief Survey of Deep Reinforcement Learning</td>\n      <td>2017-08-19T15:55:31Z</td>\n      <td>1</td>\n    </tr>\n    <tr>\n      <th>12</th>\n      <td>Marc Peter Deisenroth</td>\n      <td></td>\n      <td></td>\n      <td>1708.05866v2</td>\n      <td>A Brief Survey of Deep Reinforcement Learning</td>\n      <td>2017-08-19T15:55:31Z</td>\n      <td>1</td>\n    </tr>\n    <tr>\n      <th>13</th>\n      <td>Miles Brundage</td>\n      <td></td>\n      <td></td>\n      <td>1708.05866v2</td>\n      <td>A Brief Survey of Deep Reinforcement Learning</td>\n      <td>2017-08-19T15:55:31Z</td>\n      <td>1</td>\n    </tr>\n    <tr>\n      <th>14</th>\n      <td>Anil Anthony Bharath</td>\n      <td></td>\n      <td></td>\n      <td>1708.05866v2</td>\n      <td>A Brief Survey of Deep Reinforcement Learning</td>\n      <td>2017-08-19T15:55:31Z</td>\n      <td>1</td>\n    </tr>\n    <tr>\n      <th>15</th>\n      <td>Alexander Robey</td>\n      <td></td>\n      <td></td>\n      <td>2005.10247v1</td>\n      <td>Model-Based Robust Deep Learning</td>\n      <td>2020-05-20T13:46:31Z</td>\n      <td>1</td>\n    </tr>\n    <tr>\n      <th>16</th>\n      <td>Hamed Hassani</td>\n      <td></td>\n      <td></td>\n      <td>2005.10247v1</td>\n      <td>Model-Based Robust Deep Learning</td>\n      <td>2020-05-20T13:46:31Z</td>\n      <td>1</td>\n    </tr>\n    <tr>\n      <th>17</th>\n      <td>George J. Pappas</td>\n      <td></td>\n      <td></td>\n      <td>2005.10247v1</td>\n      <td>Model-Based Robust Deep Learning</td>\n      <td>2020-05-20T13:46:31Z</td>\n      <td>1</td>\n    </tr>\n    <tr>\n      <th>18</th>\n      <td>Yarin Gal</td>\n      <td></td>\n      <td></td>\n      <td>1703.02910v1</td>\n      <td>Deep Bayesian Active Learning with Image Data</td>\n      <td>2017-03-08T16:53:57Z</td>\n      <td>1</td>\n    </tr>\n    <tr>\n      <th>19</th>\n      <td>Riashat Islam</td>\n      <td></td>\n      <td></td>\n      <td>1703.02910v1</td>\n      <td>Deep Bayesian Active Learning with Image Data</td>\n      <td>2017-03-08T16:53:57Z</td>\n      <td>1</td>\n    </tr>\n    <tr>\n      <th>20</th>\n      <td>Zoubin Ghahramani</td>\n      <td></td>\n      <td></td>\n      <td>1703.02910v1</td>\n      <td>Deep Bayesian Active Learning with Image Data</td>\n      <td>2017-03-08T16:53:57Z</td>\n      <td>1</td>\n    </tr>\n    <tr>\n      <th>21</th>\n      <td>Xiao Lei Zhang</td>\n      <td></td>\n      <td>zhang205@cse.yorku.ca</td>\n      <td>2004.00993v2</td>\n      <td>Augmented Q Imitation Learning (AQIL)</td>\n      <td>2020-03-31T18:08:23Z</td>\n      <td>1</td>\n    </tr>\n    <tr>\n      <th>22</th>\n      <td>Anish Agarwal</td>\n      <td></td>\n      <td></td>\n      <td>2004.00993v2</td>\n      <td>Augmented Q Imitation Learning (AQIL)</td>\n      <td>2020-03-31T18:08:23Z</td>\n      <td>1</td>\n    </tr>\n    <tr>\n      <th>23</th>\n      <td>Majd Latah</td>\n      <td></td>\n      <td>latahmajd@gmail.com</td>\n      <td>1807.04739v1</td>\n      <td>When deep learning meets security</td>\n      <td>2018-07-12T17:44:42Z</td>\n      <td>1</td>\n    </tr>\n  </tbody>\n</table>\n</div>"
     },
     "metadata": {},
     "execution_count": 39
    }
   ],
   "source": [
    "pd.set_option('display.max_rows', 100)\n",
    "shelf.get_authors_dataframe(get_email=True)"
   ]
  },
  {
   "cell_type": "markdown",
   "metadata": {},
   "source": [
    "# Example 2\n",
    "Query authors data from the papers_dict of 30 papers, filtering with the keywords \"sub multisets\"."
   ]
  },
  {
   "cell_type": "code",
   "execution_count": 42,
   "metadata": {},
   "outputs": [
    {
     "output_type": "execute_result",
     "data": {
      "text/plain": "                        name affiliation email      paper_id  \\\n0               Yinghui Wang                     0908.3699v5   \n1                  Jihey Lee                     1410.6870v1   \n2            Robert E. Weiss                     1410.6870v1   \n3            Marc A. Suchard                     1410.6870v1   \n4   Prithvijit Chattopadhyay                    1604.03505v3   \n5       Ramakrishna Vedantam                    1604.03505v3   \n6   Ramprasaath R. Selvaraju                    1604.03505v3   \n7                Dhruv Batra                    1604.03505v3   \n8                Devi Parikh                    1604.03505v3   \n9                Martin Dyer                    1808.09853v1   \n10              Haiko Müller                    1808.09853v1   \n11              Carles Bretó                     1312.5903v1   \n\n                                          paper_title  paper_published_date  \\\n0        A Variant of the Stanley Depth for Multisets  2009-08-25T22:52:55Z   \n1   Using a Birth-Death Process to Account for Rep...  2014-10-25T02:21:20Z   \n2   Using a Birth-Death Process to Account for Rep...  2014-10-25T02:21:20Z   \n3   Using a Birth-Death Process to Account for Rep...  2014-10-25T02:21:20Z   \n4        Counting Everyday Objects in Everyday Scenes  2016-04-12T18:31:43Z   \n5        Counting Everyday Objects in Everyday Scenes  2016-04-12T18:31:43Z   \n6        Counting Everyday Objects in Everyday Scenes  2016-04-12T18:31:43Z   \n7        Counting Everyday Objects in Everyday Scenes  2016-04-12T18:31:43Z   \n8        Counting Everyday Objects in Everyday Scenes  2016-04-12T18:31:43Z   \n9   Counting Independent Sets in Cocomparability G...  2018-08-29T14:40:21Z   \n10  Counting Independent Sets in Cocomparability G...  2018-08-29T14:40:21Z   \n11  Co-jumps and Markov counting systems in random...  2013-12-20T11:54:46Z   \n\n   num_publications  \n0                 1  \n1                 1  \n2                 1  \n3                 1  \n4                 1  \n5                 1  \n6                 1  \n7                 1  \n8                 1  \n9                 1  \n10                1  \n11                1  ",
      "text/html": "<div>\n<style scoped>\n    .dataframe tbody tr th:only-of-type {\n        vertical-align: middle;\n    }\n\n    .dataframe tbody tr th {\n        vertical-align: top;\n    }\n\n    .dataframe thead th {\n        text-align: right;\n    }\n</style>\n<table border=\"1\" class=\"dataframe\">\n  <thead>\n    <tr style=\"text-align: right;\">\n      <th></th>\n      <th>name</th>\n      <th>affiliation</th>\n      <th>email</th>\n      <th>paper_id</th>\n      <th>paper_title</th>\n      <th>paper_published_date</th>\n      <th>num_publications</th>\n    </tr>\n  </thead>\n  <tbody>\n    <tr>\n      <th>0</th>\n      <td>Yinghui Wang</td>\n      <td></td>\n      <td></td>\n      <td>0908.3699v5</td>\n      <td>A Variant of the Stanley Depth for Multisets</td>\n      <td>2009-08-25T22:52:55Z</td>\n      <td>1</td>\n    </tr>\n    <tr>\n      <th>1</th>\n      <td>Jihey Lee</td>\n      <td></td>\n      <td></td>\n      <td>1410.6870v1</td>\n      <td>Using a Birth-Death Process to Account for Rep...</td>\n      <td>2014-10-25T02:21:20Z</td>\n      <td>1</td>\n    </tr>\n    <tr>\n      <th>2</th>\n      <td>Robert E. Weiss</td>\n      <td></td>\n      <td></td>\n      <td>1410.6870v1</td>\n      <td>Using a Birth-Death Process to Account for Rep...</td>\n      <td>2014-10-25T02:21:20Z</td>\n      <td>1</td>\n    </tr>\n    <tr>\n      <th>3</th>\n      <td>Marc A. Suchard</td>\n      <td></td>\n      <td></td>\n      <td>1410.6870v1</td>\n      <td>Using a Birth-Death Process to Account for Rep...</td>\n      <td>2014-10-25T02:21:20Z</td>\n      <td>1</td>\n    </tr>\n    <tr>\n      <th>4</th>\n      <td>Prithvijit Chattopadhyay</td>\n      <td></td>\n      <td></td>\n      <td>1604.03505v3</td>\n      <td>Counting Everyday Objects in Everyday Scenes</td>\n      <td>2016-04-12T18:31:43Z</td>\n      <td>1</td>\n    </tr>\n    <tr>\n      <th>5</th>\n      <td>Ramakrishna Vedantam</td>\n      <td></td>\n      <td></td>\n      <td>1604.03505v3</td>\n      <td>Counting Everyday Objects in Everyday Scenes</td>\n      <td>2016-04-12T18:31:43Z</td>\n      <td>1</td>\n    </tr>\n    <tr>\n      <th>6</th>\n      <td>Ramprasaath R. Selvaraju</td>\n      <td></td>\n      <td></td>\n      <td>1604.03505v3</td>\n      <td>Counting Everyday Objects in Everyday Scenes</td>\n      <td>2016-04-12T18:31:43Z</td>\n      <td>1</td>\n    </tr>\n    <tr>\n      <th>7</th>\n      <td>Dhruv Batra</td>\n      <td></td>\n      <td></td>\n      <td>1604.03505v3</td>\n      <td>Counting Everyday Objects in Everyday Scenes</td>\n      <td>2016-04-12T18:31:43Z</td>\n      <td>1</td>\n    </tr>\n    <tr>\n      <th>8</th>\n      <td>Devi Parikh</td>\n      <td></td>\n      <td></td>\n      <td>1604.03505v3</td>\n      <td>Counting Everyday Objects in Everyday Scenes</td>\n      <td>2016-04-12T18:31:43Z</td>\n      <td>1</td>\n    </tr>\n    <tr>\n      <th>9</th>\n      <td>Martin Dyer</td>\n      <td></td>\n      <td></td>\n      <td>1808.09853v1</td>\n      <td>Counting Independent Sets in Cocomparability G...</td>\n      <td>2018-08-29T14:40:21Z</td>\n      <td>1</td>\n    </tr>\n    <tr>\n      <th>10</th>\n      <td>Haiko Müller</td>\n      <td></td>\n      <td></td>\n      <td>1808.09853v1</td>\n      <td>Counting Independent Sets in Cocomparability G...</td>\n      <td>2018-08-29T14:40:21Z</td>\n      <td>1</td>\n    </tr>\n    <tr>\n      <th>11</th>\n      <td>Carles Bretó</td>\n      <td></td>\n      <td></td>\n      <td>1312.5903v1</td>\n      <td>Co-jumps and Markov counting systems in random...</td>\n      <td>2013-12-20T11:54:46Z</td>\n      <td>1</td>\n    </tr>\n  </tbody>\n</table>\n</div>"
     },
     "metadata": {},
     "execution_count": 42
    }
   ],
   "source": [
    "shelf = Shelf()\n",
    "shelf.query(keywords=\"counting submultisets\", start_index=1, max_results=5)\n",
    "df_multiset = shelf.get_authors_dataframe()\n",
    "df_multiset"
   ]
  },
  {
   "cell_type": "markdown",
   "metadata": {},
   "source": [
    "To optimize resources, we can divide the downloads in 3 batches."
   ]
  },
  {
   "cell_type": "code",
   "execution_count": 5,
   "metadata": {},
   "outputs": [
    {
     "output_type": "stream",
     "name": "stdout",
     "text": "Processing batch 0\npaper 1805.08355v1.pdf already downloaded. Skipping!\npaper 1806.01756v1.pdf already downloaded. Skipping!\npaper 1908.02130v1.pdf already downloaded. Skipping!\npaper 1812.05448v3.pdf already downloaded. Skipping!\npaper 1705.03921v1.pdf already downloaded. Skipping!\npaper 1901.02354v2.pdf already downloaded. Skipping!\npaper 1602.00203v1.pdf already downloaded. Skipping!\npaper 1805.04825v1.pdf already downloaded. Skipping!\npaper 1901.09388v2.pdf already downloaded. Skipping!\npaper 1711.03577v1.pdf already downloaded. Skipping!\nProcessing batch 1\npaper 1901.04195v1.pdf already downloaded. Skipping!\npaper 1904.08483v2.pdf already downloaded. Skipping!\npaper 1805.03551v2.pdf already downloaded. Skipping!\npaper 1912.13171v2.pdf already downloaded. Skipping!\npaper 1801.07883v2.pdf already downloaded. Skipping!\npaper 1710.06798v1.pdf already downloaded. Skipping!\npaper 1801.00631v1.pdf already downloaded. Skipping!\npaper 1802.00810v2.pdf already downloaded. Skipping!\npaper 1807.06399v1.pdf already downloaded. Skipping!\npaper 1708.05866v2.pdf already downloaded. Skipping!\nProcessing batch 2\nPaper http://arxiv.org/pdf/2005.10247v1.pdf downloaded to /home/savoy/repos/arxiv_authors_parser/tmp/2005.10247v1.pdf.\npaper 1703.02910v1.pdf already downloaded. Skipping!\npaper 2004.00993v2.pdf already downloaded. Skipping!\npaper 1807.04739v1.pdf already downloaded. Skipping!\npaper 1802.08717v1.pdf already downloaded. Skipping!\npaper 1803.10862v1.pdf already downloaded. Skipping!\npaper 1904.05526v2.pdf already downloaded. Skipping!\npaper 1906.06706v7.pdf already downloaded. Skipping!\npaper 1708.03704v1.pdf already downloaded. Skipping!\npaper 1905.07187v1.pdf already downloaded. Skipping!\n"
    }
   ],
   "source": [
    "import pandas as pd\n",
    "\n",
    "\n",
    "batch_size = 10\n",
    "num_batches = 3\n",
    "shelf = Shelf()\n",
    "\n",
    "df_authors = pd.DataFrame()\n",
    "\n",
    "for j in range(num_batches):\n",
    "    print(\"Processing batch {}\".format(j))\n",
    "    shelf.query(keywords=\"deep learning\", index=j * batch_size, max_results=batch_size)\n",
    "    df_batch = shelf.authors(as_dataframe=True, get_email=True)\n",
    "    if df_batch is not None:\n",
    "        df_authors = df_authors.append(df_batch, ignore_index=True)\n"
   ]
  },
  {
   "cell_type": "code",
   "execution_count": 6,
   "metadata": {},
   "outputs": [
    {
     "output_type": "execute_result",
     "data": {
      "text/plain": "                 name affiliation                email  \\\n0            Dian Lei                                    \n1       Xiaoxiao Chen                                    \n2        Jianfei Zhao                                    \n3      Daniel T Chang              dtchang43@gmail.com   \n4   Aras R. Dargazany                                    \n..                ...         ...                  ...   \n74       Yiqiao Zhong                                    \n75     Changcun Huang                                    \n76         Alan Mosca                                    \n77  George D Magoulas                                    \n78     Eugene Golikov               golikov.ea@mipt.ru   \n\n                             paper_id  \\\n0   http://arxiv.org/abs/1805.08355v1   \n1   http://arxiv.org/abs/1805.08355v1   \n2   http://arxiv.org/abs/1805.08355v1   \n3   http://arxiv.org/abs/1806.01756v1   \n4   http://arxiv.org/abs/1908.02130v1   \n..                                ...   \n74  http://arxiv.org/abs/1904.05526v2   \n75  http://arxiv.org/abs/1906.06706v7   \n76  http://arxiv.org/abs/1708.03704v1   \n77  http://arxiv.org/abs/1708.03704v1   \n78  http://arxiv.org/abs/1905.07187v1   \n\n                                          paper_title  paper_published_date  \\\n0              Opening the black box of deep learning  2018-05-22T02:12:33Z   \n1              Opening the black box of deep learning  2018-05-22T02:12:33Z   \n2              Opening the black box of deep learning  2018-05-22T02:12:33Z   \n3                      Concept-Oriented Deep Learning  2018-06-05T15:50:30Z   \n4   Deep learning research landscape & roadmap in ...  2019-07-30T16:57:38Z   \n..                                                ...                   ...   \n74              A Selective Overview of Deep Learning  2019-04-10T17:53:15Z   \n75  Interpretations of Deep Learning by Forests an...  2019-06-16T14:38:41Z   \n76                          Deep Incremental Boosting  2017-08-11T21:05:58Z   \n77                          Deep Incremental Boosting  2017-08-11T21:05:58Z   \n78  An Essay on Optimization Mystery of Deep Learning  2019-05-17T10:28:06Z   \n\n   num_publications  \n0                 1  \n1                 1  \n2                 1  \n3                 1  \n4                 1  \n..              ...  \n74                1  \n75                1  \n76                1  \n77                1  \n78                1  \n\n[79 rows x 7 columns]",
      "text/html": "<div>\n<style scoped>\n    .dataframe tbody tr th:only-of-type {\n        vertical-align: middle;\n    }\n\n    .dataframe tbody tr th {\n        vertical-align: top;\n    }\n\n    .dataframe thead th {\n        text-align: right;\n    }\n</style>\n<table border=\"1\" class=\"dataframe\">\n  <thead>\n    <tr style=\"text-align: right;\">\n      <th></th>\n      <th>name</th>\n      <th>affiliation</th>\n      <th>email</th>\n      <th>paper_id</th>\n      <th>paper_title</th>\n      <th>paper_published_date</th>\n      <th>num_publications</th>\n    </tr>\n  </thead>\n  <tbody>\n    <tr>\n      <th>0</th>\n      <td>Dian Lei</td>\n      <td></td>\n      <td></td>\n      <td>http://arxiv.org/abs/1805.08355v1</td>\n      <td>Opening the black box of deep learning</td>\n      <td>2018-05-22T02:12:33Z</td>\n      <td>1</td>\n    </tr>\n    <tr>\n      <th>1</th>\n      <td>Xiaoxiao Chen</td>\n      <td></td>\n      <td></td>\n      <td>http://arxiv.org/abs/1805.08355v1</td>\n      <td>Opening the black box of deep learning</td>\n      <td>2018-05-22T02:12:33Z</td>\n      <td>1</td>\n    </tr>\n    <tr>\n      <th>2</th>\n      <td>Jianfei Zhao</td>\n      <td></td>\n      <td></td>\n      <td>http://arxiv.org/abs/1805.08355v1</td>\n      <td>Opening the black box of deep learning</td>\n      <td>2018-05-22T02:12:33Z</td>\n      <td>1</td>\n    </tr>\n    <tr>\n      <th>3</th>\n      <td>Daniel T Chang</td>\n      <td></td>\n      <td>dtchang43@gmail.com</td>\n      <td>http://arxiv.org/abs/1806.01756v1</td>\n      <td>Concept-Oriented Deep Learning</td>\n      <td>2018-06-05T15:50:30Z</td>\n      <td>1</td>\n    </tr>\n    <tr>\n      <th>4</th>\n      <td>Aras R. Dargazany</td>\n      <td></td>\n      <td></td>\n      <td>http://arxiv.org/abs/1908.02130v1</td>\n      <td>Deep learning research landscape &amp; roadmap in ...</td>\n      <td>2019-07-30T16:57:38Z</td>\n      <td>1</td>\n    </tr>\n    <tr>\n      <th>...</th>\n      <td>...</td>\n      <td>...</td>\n      <td>...</td>\n      <td>...</td>\n      <td>...</td>\n      <td>...</td>\n      <td>...</td>\n    </tr>\n    <tr>\n      <th>74</th>\n      <td>Yiqiao Zhong</td>\n      <td></td>\n      <td></td>\n      <td>http://arxiv.org/abs/1904.05526v2</td>\n      <td>A Selective Overview of Deep Learning</td>\n      <td>2019-04-10T17:53:15Z</td>\n      <td>1</td>\n    </tr>\n    <tr>\n      <th>75</th>\n      <td>Changcun Huang</td>\n      <td></td>\n      <td></td>\n      <td>http://arxiv.org/abs/1906.06706v7</td>\n      <td>Interpretations of Deep Learning by Forests an...</td>\n      <td>2019-06-16T14:38:41Z</td>\n      <td>1</td>\n    </tr>\n    <tr>\n      <th>76</th>\n      <td>Alan Mosca</td>\n      <td></td>\n      <td></td>\n      <td>http://arxiv.org/abs/1708.03704v1</td>\n      <td>Deep Incremental Boosting</td>\n      <td>2017-08-11T21:05:58Z</td>\n      <td>1</td>\n    </tr>\n    <tr>\n      <th>77</th>\n      <td>George D Magoulas</td>\n      <td></td>\n      <td></td>\n      <td>http://arxiv.org/abs/1708.03704v1</td>\n      <td>Deep Incremental Boosting</td>\n      <td>2017-08-11T21:05:58Z</td>\n      <td>1</td>\n    </tr>\n    <tr>\n      <th>78</th>\n      <td>Eugene Golikov</td>\n      <td></td>\n      <td>golikov.ea@mipt.ru</td>\n      <td>http://arxiv.org/abs/1905.07187v1</td>\n      <td>An Essay on Optimization Mystery of Deep Learning</td>\n      <td>2019-05-17T10:28:06Z</td>\n      <td>1</td>\n    </tr>\n  </tbody>\n</table>\n<p>79 rows × 7 columns</p>\n</div>"
     },
     "metadata": {},
     "execution_count": 6
    }
   ],
   "source": [
    "pd.set_option('display.max_rows', 78)\n",
    "df_authors"
   ]
  },
  {
   "cell_type": "code",
   "execution_count": 46,
   "metadata": {},
   "outputs": [
    {
     "output_type": "stream",
     "name": "stdout",
     "text": "{'0908.3699v5': <pdftotext.PDF object at 0x7f9036162420>,\n '1312.5903v1': <pdftotext.PDF object at 0x7f90361624b0>,\n '1410.6870v1': <pdftotext.PDF object at 0x7f9036162540>,\n '1604.03505v3': <pdftotext.PDF object at 0x7f90361623c0>,\n '1703.02910v1': <pdftotext.PDF object at 0x7f9036162450>,\n '1708.05866v2': <pdftotext.PDF object at 0x7f90361622a0>,\n '1710.06798v1': <pdftotext.PDF object at 0x7f9036162030>,\n '1801.00631v1': <pdftotext.PDF object at 0x7f9036162510>,\n '1801.07883v2': <pdftotext.PDF object at 0x7f90361620c0>,\n '1802.00810v2': <pdftotext.PDF object at 0x7f9036162180>,\n '1807.04739v1': <pdftotext.PDF object at 0x7f9036162810>,\n '1807.06399v1': <pdftotext.PDF object at 0x7f9036162090>,\n '1808.09853v1': <pdftotext.PDF object at 0x7f90361623f0>,\n '2004.00993v2': <pdftotext.PDF object at 0x7f9036162270>,\n '2005.10247v1': <pdftotext.PDF object at 0x7f90361621e0>}\n"
    }
   ],
   "source": [
    "dict_texts = shelf.fetch_texts()\n",
    "pprint(dict_texts)"
   ]
  },
  {
   "cell_type": "code",
   "execution_count": null,
   "metadata": {},
   "outputs": [],
   "source": [
    "for k in texts.keys()[0]:\n",
    "    dict_texts"
   ]
  }
 ],
 "metadata": {
  "language_info": {
   "codemirror_mode": {
    "name": "ipython",
    "version": 3
   },
   "file_extension": ".py",
   "mimetype": "text/x-python",
   "name": "python",
   "nbconvert_exporter": "python",
   "pygments_lexer": "ipython3",
   "version": "3.8.1-final"
  },
  "orig_nbformat": 2,
  "kernelspec": {
   "name": "python38164bitvenvvirtualenv9c48974b4cc547d281478ffe88dc3f40",
   "display_name": "Python 3.8.1 64-bit ('venv': virtualenv)"
  }
 },
 "nbformat": 4,
 "nbformat_minor": 2
}