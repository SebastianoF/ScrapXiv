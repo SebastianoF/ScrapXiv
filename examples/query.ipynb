{
 "cells": [
  {
   "cell_type": "markdown",
   "metadata": {},
   "source": [
    "# Basic query examples"
   ]
  },
  {
   "cell_type": "markdown",
   "metadata": {},
   "source": [
    "## Example 1 \n",
    "\n",
    "Parse the authors name of the 14th paper in the paper list queried with \"particles\", and the following 10."
   ]
  },
  {
   "cell_type": "code",
   "execution_count": 15,
   "metadata": {},
   "outputs": [],
   "source": [
    "from pprint import pprint\n",
    "from scrapxiv.shelf import Shelf\n",
    "\n",
    "# from scrapxiv.parsers_utils import query_papers_to_dict, papers_dict_to_author_list, add_new_entries_to_df, papers_dict_to_list_of_papers_id\n",
    "\n",
    "shelf = Shelf()\n",
    "shelf.query(keywords=\"deep learning\", index=14, max_results=10)"
   ]
  },
  {
   "cell_type": "markdown",
   "metadata": {},
   "source": [
    "Get all the authors found in the query:"
   ]
  },
  {
   "cell_type": "code",
   "execution_count": 16,
   "metadata": {},
   "outputs": [
    {
     "output_type": "stream",
     "name": "stdout",
     "text": "{'affiliation': '',\n 'email': '',\n 'name': 'Chunwei Tian',\n 'paper_id': 'http://arxiv.org/abs/1912.13171v2',\n 'paper_published_date': '2019-12-31T05:03:57Z',\n 'paper_title': 'Deep Learning on Image Denoising: An overview'}\n{'affiliation': '',\n 'email': '',\n 'name': 'Lunke Fei',\n 'paper_id': 'http://arxiv.org/abs/1912.13171v2',\n 'paper_published_date': '2019-12-31T05:03:57Z',\n 'paper_title': 'Deep Learning on Image Denoising: An overview'}\n{'affiliation': '',\n 'email': '',\n 'name': 'Wenxian Zheng',\n 'paper_id': 'http://arxiv.org/abs/1912.13171v2',\n 'paper_published_date': '2019-12-31T05:03:57Z',\n 'paper_title': 'Deep Learning on Image Denoising: An overview'}\n{'affiliation': '',\n 'email': '',\n 'name': 'Yong Xu',\n 'paper_id': 'http://arxiv.org/abs/1912.13171v2',\n 'paper_published_date': '2019-12-31T05:03:57Z',\n 'paper_title': 'Deep Learning on Image Denoising: An overview'}\n{'affiliation': '',\n 'email': '',\n 'name': 'Wangmeng Zuo',\n 'paper_id': 'http://arxiv.org/abs/1912.13171v2',\n 'paper_published_date': '2019-12-31T05:03:57Z',\n 'paper_title': 'Deep Learning on Image Denoising: An overview'}\n{'affiliation': '',\n 'email': '',\n 'name': 'Chia-Wen Lin',\n 'paper_id': 'http://arxiv.org/abs/1912.13171v2',\n 'paper_published_date': '2019-12-31T05:03:57Z',\n 'paper_title': 'Deep Learning on Image Denoising: An overview'}\n{'affiliation': '',\n 'email': '',\n 'name': 'Jaya Thomas',\n 'paper_id': 'http://arxiv.org/abs/1710.06798v1',\n 'paper_published_date': '2017-10-17T14:09:00Z',\n 'paper_title': 'Feature versus Raw Sequence: Deep Learning Comparative Study '\n                'onPredicting Pre-miRNA'}\n{'affiliation': '',\n 'email': '',\n 'name': 'Sonia Thomas',\n 'paper_id': 'http://arxiv.org/abs/1710.06798v1',\n 'paper_published_date': '2017-10-17T14:09:00Z',\n 'paper_title': 'Feature versus Raw Sequence: Deep Learning Comparative Study '\n                'onPredicting Pre-miRNA'}\n{'affiliation': '',\n 'email': '',\n 'name': 'Lee Sael',\n 'paper_id': 'http://arxiv.org/abs/1710.06798v1',\n 'paper_published_date': '2017-10-17T14:09:00Z',\n 'paper_title': 'Feature versus Raw Sequence: Deep Learning Comparative Study '\n                'onPredicting Pre-miRNA'}\n{'affiliation': '',\n 'email': '',\n 'name': 'Gary Marcus',\n 'paper_id': 'http://arxiv.org/abs/1801.00631v1',\n 'paper_published_date': '2018-01-02T12:49:35Z',\n 'paper_title': 'Deep Learning: A Critical Appraisal'}\n{'affiliation': '',\n 'email': '',\n 'name': 'Tianwei Yue',\n 'paper_id': 'http://arxiv.org/abs/1802.00810v2',\n 'paper_published_date': '2018-02-02T12:50:25Z',\n 'paper_title': 'Deep Learning for Genomics: A Concise Overview'}\n{'affiliation': '',\n 'email': '',\n 'name': 'Haohan Wang',\n 'paper_id': 'http://arxiv.org/abs/1802.00810v2',\n 'paper_published_date': '2018-02-02T12:50:25Z',\n 'paper_title': 'Deep Learning for Genomics: A Concise Overview'}\n{'affiliation': '',\n 'email': '',\n 'name': 'Maxwell Nye',\n 'paper_id': 'http://arxiv.org/abs/1807.06399v1',\n 'paper_published_date': '2018-07-17T13:08:21Z',\n 'paper_title': 'Are Efficient Deep Representations Learnable?'}\n{'affiliation': '',\n 'email': '',\n 'name': 'Andrew Saxe',\n 'paper_id': 'http://arxiv.org/abs/1807.06399v1',\n 'paper_published_date': '2018-07-17T13:08:21Z',\n 'paper_title': 'Are Efficient Deep Representations Learnable?'}\n{'affiliation': '',\n 'email': '',\n 'name': 'Kai Arulkumaran',\n 'paper_id': 'http://arxiv.org/abs/1708.05866v2',\n 'paper_published_date': '2017-08-19T15:55:31Z',\n 'paper_title': 'A Brief Survey of Deep Reinforcement Learning'}\n{'affiliation': '',\n 'email': '',\n 'name': 'Marc Peter Deisenroth',\n 'paper_id': 'http://arxiv.org/abs/1708.05866v2',\n 'paper_published_date': '2017-08-19T15:55:31Z',\n 'paper_title': 'A Brief Survey of Deep Reinforcement Learning'}\n{'affiliation': '',\n 'email': '',\n 'name': 'Miles Brundage',\n 'paper_id': 'http://arxiv.org/abs/1708.05866v2',\n 'paper_published_date': '2017-08-19T15:55:31Z',\n 'paper_title': 'A Brief Survey of Deep Reinforcement Learning'}\n{'affiliation': '',\n 'email': '',\n 'name': 'Anil Anthony Bharath',\n 'paper_id': 'http://arxiv.org/abs/1708.05866v2',\n 'paper_published_date': '2017-08-19T15:55:31Z',\n 'paper_title': 'A Brief Survey of Deep Reinforcement Learning'}\n{'affiliation': '',\n 'email': '',\n 'name': 'Yarin Gal',\n 'paper_id': 'http://arxiv.org/abs/1703.02910v1',\n 'paper_published_date': '2017-03-08T16:53:57Z',\n 'paper_title': 'Deep Bayesian Active Learning with Image Data'}\n{'affiliation': '',\n 'email': '',\n 'name': 'Riashat Islam',\n 'paper_id': 'http://arxiv.org/abs/1703.02910v1',\n 'paper_published_date': '2017-03-08T16:53:57Z',\n 'paper_title': 'Deep Bayesian Active Learning with Image Data'}\n{'affiliation': '',\n 'email': '',\n 'name': 'Zoubin Ghahramani',\n 'paper_id': 'http://arxiv.org/abs/1703.02910v1',\n 'paper_published_date': '2017-03-08T16:53:57Z',\n 'paper_title': 'Deep Bayesian Active Learning with Image Data'}\n{'affiliation': '',\n 'email': '',\n 'name': 'Xiao Lei Zhang',\n 'paper_id': 'http://arxiv.org/abs/2004.00993v2',\n 'paper_published_date': '2020-03-31T18:08:23Z',\n 'paper_title': 'Augmented Q Imitation Learning (AQIL)'}\n{'affiliation': '',\n 'email': '',\n 'name': 'Anish Agarwal',\n 'paper_id': 'http://arxiv.org/abs/2004.00993v2',\n 'paper_published_date': '2020-03-31T18:08:23Z',\n 'paper_title': 'Augmented Q Imitation Learning (AQIL)'}\n{'affiliation': '',\n 'email': '',\n 'name': 'Majd Latah',\n 'paper_id': 'http://arxiv.org/abs/1807.04739v1',\n 'paper_published_date': '2018-07-12T17:44:42Z',\n 'paper_title': 'When deep learning meets security'}\n{'affiliation': '',\n 'email': '',\n 'name': 'Maciej A. Mazurowski',\n 'paper_id': 'http://arxiv.org/abs/1802.08717v1',\n 'paper_published_date': '2018-02-10T04:00:55Z',\n 'paper_title': 'Deep learning in radiology: an overview of the concepts and a '\n                'survey ofthe state of the art'}\n{'affiliation': '',\n 'email': '',\n 'name': 'Mateusz Buda',\n 'paper_id': 'http://arxiv.org/abs/1802.08717v1',\n 'paper_published_date': '2018-02-10T04:00:55Z',\n 'paper_title': 'Deep learning in radiology: an overview of the concepts and a '\n                'survey ofthe state of the art'}\n{'affiliation': '',\n 'email': '',\n 'name': 'Ashirbani Saha',\n 'paper_id': 'http://arxiv.org/abs/1802.08717v1',\n 'paper_published_date': '2018-02-10T04:00:55Z',\n 'paper_title': 'Deep learning in radiology: an overview of the concepts and a '\n                'survey ofthe state of the art'}\n{'affiliation': '',\n 'email': '',\n 'name': 'Mustafa R. Bashir',\n 'paper_id': 'http://arxiv.org/abs/1802.08717v1',\n 'paper_published_date': '2018-02-10T04:00:55Z',\n 'paper_title': 'Deep learning in radiology: an overview of the concepts and a '\n                'survey ofthe state of the art'}\n"
    }
   ],
   "source": [
    "# returns a list of lists like [name, affiliation (if any), paper_id, paper_title, paper_published_date]\n",
    "for au in shelf.authors():\n",
    "    pprint(au)"
   ]
  },
  {
   "cell_type": "markdown",
   "metadata": {},
   "source": [
    "Get all the papers id (unique identifier to the paper url)"
   ]
  },
  {
   "cell_type": "code",
   "execution_count": 17,
   "metadata": {},
   "outputs": [
    {
     "output_type": "execute_result",
     "data": {
      "text/plain": "['http://arxiv.org/abs/1912.13171v2',\n 'http://arxiv.org/abs/1710.06798v1',\n 'http://arxiv.org/abs/1801.00631v1',\n 'http://arxiv.org/abs/1802.00810v2',\n 'http://arxiv.org/abs/1807.06399v1',\n 'http://arxiv.org/abs/1708.05866v2',\n 'http://arxiv.org/abs/1703.02910v1',\n 'http://arxiv.org/abs/2004.00993v2',\n 'http://arxiv.org/abs/1807.04739v1',\n 'http://arxiv.org/abs/1802.08717v1']"
     },
     "metadata": {},
     "execution_count": 17
    }
   ],
   "source": [
    "shelf.papers_ids()"
   ]
  },
  {
   "cell_type": "markdown",
   "metadata": {},
   "source": [
    "# Example 2\n",
    "Query authors data from the papers_dict of 30 papers, filtering with the keywords \"sub multisets\"."
   ]
  },
  {
   "cell_type": "code",
   "execution_count": 18,
   "metadata": {},
   "outputs": [
    {
     "output_type": "execute_result",
     "data": {
      "text/plain": "                 name affiliation email                           paper_id  \\\n0      Daniel T Chang                    http://arxiv.org/abs/1806.01756v1   \n1   Aras R. Dargazany                    http://arxiv.org/abs/1908.02130v1   \n2          Mengwei Xu                    http://arxiv.org/abs/1812.05448v3   \n3          Jiawei Liu                    http://arxiv.org/abs/1812.05448v3   \n4       Yuanqiang Liu                    http://arxiv.org/abs/1812.05448v3   \n5   Felix Xiaozhu Lin                    http://arxiv.org/abs/1812.05448v3   \n6          Yunxin Liu                    http://arxiv.org/abs/1812.05448v3   \n7         Xuanzhe Liu                    http://arxiv.org/abs/1812.05448v3   \n8         Ronny Ronen                    http://arxiv.org/abs/1705.03921v1   \n9           Xiao Dong                    http://arxiv.org/abs/1901.02354v2   \n10          Ling Zhou                    http://arxiv.org/abs/1901.02354v2   \n\n                                          paper_title  paper_published_date  \\\n0                      Concept-Oriented Deep Learning  2018-06-05T15:50:30Z   \n1   Deep learning research landscape & roadmap in ...  2019-07-30T16:57:38Z   \n2   A First Look at Deep Learning Apps on Smartphones  2018-11-08T07:59:23Z   \n3   A First Look at Deep Learning Apps on Smartphones  2018-11-08T07:59:23Z   \n4   A First Look at Deep Learning Apps on Smartphones  2018-11-08T07:59:23Z   \n5   A First Look at Deep Learning Apps on Smartphones  2018-11-08T07:59:23Z   \n6   A First Look at Deep Learning Apps on Smartphones  2018-11-08T07:59:23Z   \n7   A First Look at Deep Learning Apps on Smartphones  2018-11-08T07:59:23Z   \n8   Why & When Deep Learning Works: Looking Inside...  2017-05-10T18:52:26Z   \n9   Geometrization of deep networks for the interp...  2019-01-06T14:32:45Z   \n10  Geometrization of deep networks for the interp...  2019-01-06T14:32:45Z   \n\n   num_publications  \n0                 1  \n1                 1  \n2                 1  \n3                 1  \n4                 1  \n5                 1  \n6                 1  \n7                 1  \n8                 1  \n9                 1  \n10                1  ",
      "text/html": "<div>\n<style scoped>\n    .dataframe tbody tr th:only-of-type {\n        vertical-align: middle;\n    }\n\n    .dataframe tbody tr th {\n        vertical-align: top;\n    }\n\n    .dataframe thead th {\n        text-align: right;\n    }\n</style>\n<table border=\"1\" class=\"dataframe\">\n  <thead>\n    <tr style=\"text-align: right;\">\n      <th></th>\n      <th>name</th>\n      <th>affiliation</th>\n      <th>email</th>\n      <th>paper_id</th>\n      <th>paper_title</th>\n      <th>paper_published_date</th>\n      <th>num_publications</th>\n    </tr>\n  </thead>\n  <tbody>\n    <tr>\n      <th>0</th>\n      <td>Daniel T Chang</td>\n      <td></td>\n      <td></td>\n      <td>http://arxiv.org/abs/1806.01756v1</td>\n      <td>Concept-Oriented Deep Learning</td>\n      <td>2018-06-05T15:50:30Z</td>\n      <td>1</td>\n    </tr>\n    <tr>\n      <th>1</th>\n      <td>Aras R. Dargazany</td>\n      <td></td>\n      <td></td>\n      <td>http://arxiv.org/abs/1908.02130v1</td>\n      <td>Deep learning research landscape &amp; roadmap in ...</td>\n      <td>2019-07-30T16:57:38Z</td>\n      <td>1</td>\n    </tr>\n    <tr>\n      <th>2</th>\n      <td>Mengwei Xu</td>\n      <td></td>\n      <td></td>\n      <td>http://arxiv.org/abs/1812.05448v3</td>\n      <td>A First Look at Deep Learning Apps on Smartphones</td>\n      <td>2018-11-08T07:59:23Z</td>\n      <td>1</td>\n    </tr>\n    <tr>\n      <th>3</th>\n      <td>Jiawei Liu</td>\n      <td></td>\n      <td></td>\n      <td>http://arxiv.org/abs/1812.05448v3</td>\n      <td>A First Look at Deep Learning Apps on Smartphones</td>\n      <td>2018-11-08T07:59:23Z</td>\n      <td>1</td>\n    </tr>\n    <tr>\n      <th>4</th>\n      <td>Yuanqiang Liu</td>\n      <td></td>\n      <td></td>\n      <td>http://arxiv.org/abs/1812.05448v3</td>\n      <td>A First Look at Deep Learning Apps on Smartphones</td>\n      <td>2018-11-08T07:59:23Z</td>\n      <td>1</td>\n    </tr>\n    <tr>\n      <th>5</th>\n      <td>Felix Xiaozhu Lin</td>\n      <td></td>\n      <td></td>\n      <td>http://arxiv.org/abs/1812.05448v3</td>\n      <td>A First Look at Deep Learning Apps on Smartphones</td>\n      <td>2018-11-08T07:59:23Z</td>\n      <td>1</td>\n    </tr>\n    <tr>\n      <th>6</th>\n      <td>Yunxin Liu</td>\n      <td></td>\n      <td></td>\n      <td>http://arxiv.org/abs/1812.05448v3</td>\n      <td>A First Look at Deep Learning Apps on Smartphones</td>\n      <td>2018-11-08T07:59:23Z</td>\n      <td>1</td>\n    </tr>\n    <tr>\n      <th>7</th>\n      <td>Xuanzhe Liu</td>\n      <td></td>\n      <td></td>\n      <td>http://arxiv.org/abs/1812.05448v3</td>\n      <td>A First Look at Deep Learning Apps on Smartphones</td>\n      <td>2018-11-08T07:59:23Z</td>\n      <td>1</td>\n    </tr>\n    <tr>\n      <th>8</th>\n      <td>Ronny Ronen</td>\n      <td></td>\n      <td></td>\n      <td>http://arxiv.org/abs/1705.03921v1</td>\n      <td>Why &amp; When Deep Learning Works: Looking Inside...</td>\n      <td>2017-05-10T18:52:26Z</td>\n      <td>1</td>\n    </tr>\n    <tr>\n      <th>9</th>\n      <td>Xiao Dong</td>\n      <td></td>\n      <td></td>\n      <td>http://arxiv.org/abs/1901.02354v2</td>\n      <td>Geometrization of deep networks for the interp...</td>\n      <td>2019-01-06T14:32:45Z</td>\n      <td>1</td>\n    </tr>\n    <tr>\n      <th>10</th>\n      <td>Ling Zhou</td>\n      <td></td>\n      <td></td>\n      <td>http://arxiv.org/abs/1901.02354v2</td>\n      <td>Geometrization of deep networks for the interp...</td>\n      <td>2019-01-06T14:32:45Z</td>\n      <td>1</td>\n    </tr>\n  </tbody>\n</table>\n</div>"
     },
     "metadata": {},
     "execution_count": 18
    }
   ],
   "source": [
    "shelf = Shelf()\n",
    "shelf.query(keywords=\"deep learning\", index=1, max_results=5)\n",
    "df_multiset = shelf.authors(as_dataframe=True)\n",
    "df_multiset"
   ]
  },
  {
   "cell_type": "markdown",
   "metadata": {},
   "source": [
    "To optimize resources, we can divide the downloads in 3 batches."
   ]
  },
  {
   "cell_type": "code",
   "execution_count": 20,
   "metadata": {},
   "outputs": [
    {
     "output_type": "stream",
     "name": "stdout",
     "text": "Processing batch 0\nPaper http://arxiv.org/pdf/1805.08355v1.pdf downloaded to /home/savoy/repos/arxiv_authors_parser/tmp/1805.08355v1.pdf.\nPaper http://arxiv.org/pdf/1806.01756v1.pdf downloaded to /home/savoy/repos/arxiv_authors_parser/tmp/1806.01756v1.pdf.\nPaper http://arxiv.org/pdf/1908.02130v1.pdf downloaded to /home/savoy/repos/arxiv_authors_parser/tmp/1908.02130v1.pdf.\nPaper http://arxiv.org/pdf/1812.05448v3.pdf downloaded to /home/savoy/repos/arxiv_authors_parser/tmp/1812.05448v3.pdf.\nPaper http://arxiv.org/pdf/1705.03921v1.pdf downloaded to /home/savoy/repos/arxiv_authors_parser/tmp/1705.03921v1.pdf.\nPaper http://arxiv.org/pdf/1901.02354v2.pdf downloaded to /home/savoy/repos/arxiv_authors_parser/tmp/1901.02354v2.pdf.\nPaper http://arxiv.org/pdf/1602.00203v1.pdf downloaded to /home/savoy/repos/arxiv_authors_parser/tmp/1602.00203v1.pdf.\nPaper http://arxiv.org/pdf/1805.04825v1.pdf downloaded to /home/savoy/repos/arxiv_authors_parser/tmp/1805.04825v1.pdf.\nPaper http://arxiv.org/pdf/1901.09388v2.pdf downloaded to /home/savoy/repos/arxiv_authors_parser/tmp/1901.09388v2.pdf.\nPaper http://arxiv.org/pdf/1711.03577v1.pdf downloaded to /home/savoy/repos/arxiv_authors_parser/tmp/1711.03577v1.pdf.\nProcessing batch 1\nPaper http://arxiv.org/pdf/1901.04195v1.pdf downloaded to /home/savoy/repos/arxiv_authors_parser/tmp/1901.04195v1.pdf.\nPaper http://arxiv.org/pdf/1904.08483v2.pdf downloaded to /home/savoy/repos/arxiv_authors_parser/tmp/1904.08483v2.pdf.\nPaper http://arxiv.org/pdf/1805.03551v2.pdf downloaded to /home/savoy/repos/arxiv_authors_parser/tmp/1805.03551v2.pdf.\nPaper http://arxiv.org/pdf/1801.07883v2.pdf downloaded to /home/savoy/repos/arxiv_authors_parser/tmp/1801.07883v2.pdf.\nPaper http://arxiv.org/pdf/1912.13171v2.pdf downloaded to /home/savoy/repos/arxiv_authors_parser/tmp/1912.13171v2.pdf.\nPaper http://arxiv.org/pdf/1710.06798v1.pdf downloaded to /home/savoy/repos/arxiv_authors_parser/tmp/1710.06798v1.pdf.\nPaper http://arxiv.org/pdf/1801.00631v1.pdf downloaded to /home/savoy/repos/arxiv_authors_parser/tmp/1801.00631v1.pdf.\nPaper http://arxiv.org/pdf/1802.00810v2.pdf downloaded to /home/savoy/repos/arxiv_authors_parser/tmp/1802.00810v2.pdf.\nPaper http://arxiv.org/pdf/1807.06399v1.pdf downloaded to /home/savoy/repos/arxiv_authors_parser/tmp/1807.06399v1.pdf.\nPaper http://arxiv.org/pdf/1708.05866v2.pdf downloaded to /home/savoy/repos/arxiv_authors_parser/tmp/1708.05866v2.pdf.\nProcessing batch 2\nPaper http://arxiv.org/pdf/1703.02910v1.pdf downloaded to /home/savoy/repos/arxiv_authors_parser/tmp/1703.02910v1.pdf.\nPaper http://arxiv.org/pdf/2004.00993v2.pdf downloaded to /home/savoy/repos/arxiv_authors_parser/tmp/2004.00993v2.pdf.\nPaper http://arxiv.org/pdf/1807.04739v1.pdf downloaded to /home/savoy/repos/arxiv_authors_parser/tmp/1807.04739v1.pdf.\nPaper http://arxiv.org/pdf/1802.08717v1.pdf downloaded to /home/savoy/repos/arxiv_authors_parser/tmp/1802.08717v1.pdf.\nPaper http://arxiv.org/pdf/1803.10862v1.pdf downloaded to /home/savoy/repos/arxiv_authors_parser/tmp/1803.10862v1.pdf.\nPaper http://arxiv.org/pdf/1904.05526v2.pdf downloaded to /home/savoy/repos/arxiv_authors_parser/tmp/1904.05526v2.pdf.\nPaper http://arxiv.org/pdf/1906.06706v7.pdf downloaded to /home/savoy/repos/arxiv_authors_parser/tmp/1906.06706v7.pdf.\nPaper http://arxiv.org/pdf/1708.03704v1.pdf downloaded to /home/savoy/repos/arxiv_authors_parser/tmp/1708.03704v1.pdf.\nPaper http://arxiv.org/pdf/1905.07187v1.pdf downloaded to /home/savoy/repos/arxiv_authors_parser/tmp/1905.07187v1.pdf.\nPaper http://arxiv.org/pdf/1906.10025v2.pdf downloaded to /home/savoy/repos/arxiv_authors_parser/tmp/1906.10025v2.pdf.\n"
    }
   ],
   "source": [
    "import pandas as pd\n",
    "\n",
    "\n",
    "batch_size = 10\n",
    "num_batches = 3\n",
    "shelf = Shelf()\n",
    "\n",
    "df_authors = pd.DataFrame()\n",
    "\n",
    "for j in range(num_batches):\n",
    "    print(\"Processing batch {}\".format(j))\n",
    "    shelf.query(keywords=\"deep learning\", index=j * batch_size, max_results=batch_size)\n",
    "    df_batch = shelf.authors(as_dataframe=True, get_email=True)\n",
    "    if df_batch is not None:\n",
    "        df_authors = df_authors.append(df_batch, ignore_index=True)\n"
   ]
  },
  {
   "cell_type": "code",
   "execution_count": 22,
   "metadata": {},
   "outputs": [
    {
     "output_type": "execute_result",
     "data": {
      "text/plain": "                 name affiliation                                     email  \\\n0            Dian Lei                                                         \n1       Xiaoxiao Chen                                                         \n2        Jianfei Zhao                                                         \n3      Daniel T Chang                                   dtchang43@gmail.com   \n4   Aras R. Dargazany                                                         \n5          Mengwei Xu                                                         \n6          Jiawei Liu              {mwx,1500012828,yuanqiangliu}@pku.edu.cn   \n7       Yuanqiang Liu              {mwx,1500012828,yuanqiangliu}@pku.edu.cn   \n8   Felix Xiaozhu Lin                                                         \n9          Yunxin Liu                              yunxin.liu@microsoft.com   \n10        Xuanzhe Liu              {mwx,1500012828,yuanqiangliu}@pku.edu.cn   \n11        Ronny Ronen                                 ronny.ronen@intel.com   \n12          Xiao Dong                                                         \n13          Ling Zhou                                                         \n14    Snigdha Tariyal                                                         \n15   Angshul Majumdar                                                         \n16        Richa Singh                                                         \n17       Mayank Vatsa                                                         \n18        Xiaochen Li                                                         \n19           He Jiang                                  jianghe@dlut.edu.cn,   \n\n                             paper_id  \\\n0   http://arxiv.org/abs/1805.08355v1   \n1   http://arxiv.org/abs/1805.08355v1   \n2   http://arxiv.org/abs/1805.08355v1   \n3   http://arxiv.org/abs/1806.01756v1   \n4   http://arxiv.org/abs/1908.02130v1   \n5   http://arxiv.org/abs/1812.05448v3   \n6   http://arxiv.org/abs/1812.05448v3   \n7   http://arxiv.org/abs/1812.05448v3   \n8   http://arxiv.org/abs/1812.05448v3   \n9   http://arxiv.org/abs/1812.05448v3   \n10  http://arxiv.org/abs/1812.05448v3   \n11  http://arxiv.org/abs/1705.03921v1   \n12  http://arxiv.org/abs/1901.02354v2   \n13  http://arxiv.org/abs/1901.02354v2   \n14  http://arxiv.org/abs/1602.00203v1   \n15  http://arxiv.org/abs/1602.00203v1   \n16  http://arxiv.org/abs/1602.00203v1   \n17  http://arxiv.org/abs/1602.00203v1   \n18  http://arxiv.org/abs/1805.04825v1   \n19  http://arxiv.org/abs/1805.04825v1   \n\n                                          paper_title  paper_published_date  \\\n0              Opening the black box of deep learning  2018-05-22T02:12:33Z   \n1              Opening the black box of deep learning  2018-05-22T02:12:33Z   \n2              Opening the black box of deep learning  2018-05-22T02:12:33Z   \n3                      Concept-Oriented Deep Learning  2018-06-05T15:50:30Z   \n4   Deep learning research landscape & roadmap in ...  2019-07-30T16:57:38Z   \n5   A First Look at Deep Learning Apps on Smartphones  2018-11-08T07:59:23Z   \n6   A First Look at Deep Learning Apps on Smartphones  2018-11-08T07:59:23Z   \n7   A First Look at Deep Learning Apps on Smartphones  2018-11-08T07:59:23Z   \n8   A First Look at Deep Learning Apps on Smartphones  2018-11-08T07:59:23Z   \n9   A First Look at Deep Learning Apps on Smartphones  2018-11-08T07:59:23Z   \n10  A First Look at Deep Learning Apps on Smartphones  2018-11-08T07:59:23Z   \n11  Why & When Deep Learning Works: Looking Inside...  2017-05-10T18:52:26Z   \n12  Geometrization of deep networks for the interp...  2019-01-06T14:32:45Z   \n13  Geometrization of deep networks for the interp...  2019-01-06T14:32:45Z   \n14                    Greedy Deep Dictionary Learning  2016-01-31T06:12:58Z   \n15                    Greedy Deep Dictionary Learning  2016-01-31T06:12:58Z   \n16                    Greedy Deep Dictionary Learning  2016-01-31T06:12:58Z   \n17                    Greedy Deep Dictionary Learning  2016-01-31T06:12:58Z   \n18              Deep Learning in Software Engineering  2018-05-13T06:01:39Z   \n19              Deep Learning in Software Engineering  2018-05-13T06:01:39Z   \n\n   num_publications  \n0                 1  \n1                 1  \n2                 1  \n3                 1  \n4                 1  \n5                 1  \n6                 1  \n7                 1  \n8                 1  \n9                 1  \n10                1  \n11                1  \n12                1  \n13                1  \n14                1  \n15                1  \n16                1  \n17                1  \n18                1  \n19                1  ",
      "text/html": "<div>\n<style scoped>\n    .dataframe tbody tr th:only-of-type {\n        vertical-align: middle;\n    }\n\n    .dataframe tbody tr th {\n        vertical-align: top;\n    }\n\n    .dataframe thead th {\n        text-align: right;\n    }\n</style>\n<table border=\"1\" class=\"dataframe\">\n  <thead>\n    <tr style=\"text-align: right;\">\n      <th></th>\n      <th>name</th>\n      <th>affiliation</th>\n      <th>email</th>\n      <th>paper_id</th>\n      <th>paper_title</th>\n      <th>paper_published_date</th>\n      <th>num_publications</th>\n    </tr>\n  </thead>\n  <tbody>\n    <tr>\n      <th>0</th>\n      <td>Dian Lei</td>\n      <td></td>\n      <td></td>\n      <td>http://arxiv.org/abs/1805.08355v1</td>\n      <td>Opening the black box of deep learning</td>\n      <td>2018-05-22T02:12:33Z</td>\n      <td>1</td>\n    </tr>\n    <tr>\n      <th>1</th>\n      <td>Xiaoxiao Chen</td>\n      <td></td>\n      <td></td>\n      <td>http://arxiv.org/abs/1805.08355v1</td>\n      <td>Opening the black box of deep learning</td>\n      <td>2018-05-22T02:12:33Z</td>\n      <td>1</td>\n    </tr>\n    <tr>\n      <th>2</th>\n      <td>Jianfei Zhao</td>\n      <td></td>\n      <td></td>\n      <td>http://arxiv.org/abs/1805.08355v1</td>\n      <td>Opening the black box of deep learning</td>\n      <td>2018-05-22T02:12:33Z</td>\n      <td>1</td>\n    </tr>\n    <tr>\n      <th>3</th>\n      <td>Daniel T Chang</td>\n      <td></td>\n      <td>dtchang43@gmail.com</td>\n      <td>http://arxiv.org/abs/1806.01756v1</td>\n      <td>Concept-Oriented Deep Learning</td>\n      <td>2018-06-05T15:50:30Z</td>\n      <td>1</td>\n    </tr>\n    <tr>\n      <th>4</th>\n      <td>Aras R. Dargazany</td>\n      <td></td>\n      <td></td>\n      <td>http://arxiv.org/abs/1908.02130v1</td>\n      <td>Deep learning research landscape &amp; roadmap in ...</td>\n      <td>2019-07-30T16:57:38Z</td>\n      <td>1</td>\n    </tr>\n    <tr>\n      <th>5</th>\n      <td>Mengwei Xu</td>\n      <td></td>\n      <td></td>\n      <td>http://arxiv.org/abs/1812.05448v3</td>\n      <td>A First Look at Deep Learning Apps on Smartphones</td>\n      <td>2018-11-08T07:59:23Z</td>\n      <td>1</td>\n    </tr>\n    <tr>\n      <th>6</th>\n      <td>Jiawei Liu</td>\n      <td></td>\n      <td>{mwx,1500012828,yuanqiangliu}@pku.edu.cn</td>\n      <td>http://arxiv.org/abs/1812.05448v3</td>\n      <td>A First Look at Deep Learning Apps on Smartphones</td>\n      <td>2018-11-08T07:59:23Z</td>\n      <td>1</td>\n    </tr>\n    <tr>\n      <th>7</th>\n      <td>Yuanqiang Liu</td>\n      <td></td>\n      <td>{mwx,1500012828,yuanqiangliu}@pku.edu.cn</td>\n      <td>http://arxiv.org/abs/1812.05448v3</td>\n      <td>A First Look at Deep Learning Apps on Smartphones</td>\n      <td>2018-11-08T07:59:23Z</td>\n      <td>1</td>\n    </tr>\n    <tr>\n      <th>8</th>\n      <td>Felix Xiaozhu Lin</td>\n      <td></td>\n      <td></td>\n      <td>http://arxiv.org/abs/1812.05448v3</td>\n      <td>A First Look at Deep Learning Apps on Smartphones</td>\n      <td>2018-11-08T07:59:23Z</td>\n      <td>1</td>\n    </tr>\n    <tr>\n      <th>9</th>\n      <td>Yunxin Liu</td>\n      <td></td>\n      <td>yunxin.liu@microsoft.com</td>\n      <td>http://arxiv.org/abs/1812.05448v3</td>\n      <td>A First Look at Deep Learning Apps on Smartphones</td>\n      <td>2018-11-08T07:59:23Z</td>\n      <td>1</td>\n    </tr>\n    <tr>\n      <th>10</th>\n      <td>Xuanzhe Liu</td>\n      <td></td>\n      <td>{mwx,1500012828,yuanqiangliu}@pku.edu.cn</td>\n      <td>http://arxiv.org/abs/1812.05448v3</td>\n      <td>A First Look at Deep Learning Apps on Smartphones</td>\n      <td>2018-11-08T07:59:23Z</td>\n      <td>1</td>\n    </tr>\n    <tr>\n      <th>11</th>\n      <td>Ronny Ronen</td>\n      <td></td>\n      <td>ronny.ronen@intel.com</td>\n      <td>http://arxiv.org/abs/1705.03921v1</td>\n      <td>Why &amp; When Deep Learning Works: Looking Inside...</td>\n      <td>2017-05-10T18:52:26Z</td>\n      <td>1</td>\n    </tr>\n    <tr>\n      <th>12</th>\n      <td>Xiao Dong</td>\n      <td></td>\n      <td></td>\n      <td>http://arxiv.org/abs/1901.02354v2</td>\n      <td>Geometrization of deep networks for the interp...</td>\n      <td>2019-01-06T14:32:45Z</td>\n      <td>1</td>\n    </tr>\n    <tr>\n      <th>13</th>\n      <td>Ling Zhou</td>\n      <td></td>\n      <td></td>\n      <td>http://arxiv.org/abs/1901.02354v2</td>\n      <td>Geometrization of deep networks for the interp...</td>\n      <td>2019-01-06T14:32:45Z</td>\n      <td>1</td>\n    </tr>\n    <tr>\n      <th>14</th>\n      <td>Snigdha Tariyal</td>\n      <td></td>\n      <td></td>\n      <td>http://arxiv.org/abs/1602.00203v1</td>\n      <td>Greedy Deep Dictionary Learning</td>\n      <td>2016-01-31T06:12:58Z</td>\n      <td>1</td>\n    </tr>\n    <tr>\n      <th>15</th>\n      <td>Angshul Majumdar</td>\n      <td></td>\n      <td></td>\n      <td>http://arxiv.org/abs/1602.00203v1</td>\n      <td>Greedy Deep Dictionary Learning</td>\n      <td>2016-01-31T06:12:58Z</td>\n      <td>1</td>\n    </tr>\n    <tr>\n      <th>16</th>\n      <td>Richa Singh</td>\n      <td></td>\n      <td></td>\n      <td>http://arxiv.org/abs/1602.00203v1</td>\n      <td>Greedy Deep Dictionary Learning</td>\n      <td>2016-01-31T06:12:58Z</td>\n      <td>1</td>\n    </tr>\n    <tr>\n      <th>17</th>\n      <td>Mayank Vatsa</td>\n      <td></td>\n      <td></td>\n      <td>http://arxiv.org/abs/1602.00203v1</td>\n      <td>Greedy Deep Dictionary Learning</td>\n      <td>2016-01-31T06:12:58Z</td>\n      <td>1</td>\n    </tr>\n    <tr>\n      <th>18</th>\n      <td>Xiaochen Li</td>\n      <td></td>\n      <td></td>\n      <td>http://arxiv.org/abs/1805.04825v1</td>\n      <td>Deep Learning in Software Engineering</td>\n      <td>2018-05-13T06:01:39Z</td>\n      <td>1</td>\n    </tr>\n    <tr>\n      <th>19</th>\n      <td>He Jiang</td>\n      <td></td>\n      <td>jianghe@dlut.edu.cn,</td>\n      <td>http://arxiv.org/abs/1805.04825v1</td>\n      <td>Deep Learning in Software Engineering</td>\n      <td>2018-05-13T06:01:39Z</td>\n      <td>1</td>\n    </tr>\n  </tbody>\n</table>\n</div>"
     },
     "metadata": {},
     "execution_count": 22
    }
   ],
   "source": [
    "df_authors[:20]"
   ]
  },
  {
   "cell_type": "code",
   "execution_count": null,
   "metadata": {},
   "outputs": [],
   "source": []
  }
 ],
 "metadata": {
  "language_info": {
   "codemirror_mode": {
    "name": "ipython",
    "version": 3
   },
   "file_extension": ".py",
   "mimetype": "text/x-python",
   "name": "python",
   "nbconvert_exporter": "python",
   "pygments_lexer": "ipython3",
   "version": "3.8.1-final"
  },
  "orig_nbformat": 2,
  "kernelspec": {
   "name": "python38164bitvenvvirtualenv9c48974b4cc547d281478ffe88dc3f40",
   "display_name": "Python 3.8.1 64-bit ('venv': virtualenv)"
  }
 },
 "nbformat": 4,
 "nbformat_minor": 2
}