{
 "cells": [
  {
   "cell_type": "markdown",
   "metadata": {},
   "source": [
    "# Query examples"
   ]
  },
  {
   "cell_type": "markdown",
   "metadata": {},
   "source": [
    "## Example 1\n",
    "\n",
    "Parse the authors name of the 14th paper in the paper list queried with \"particles\", and the following 10."
   ]
  },
  {
   "cell_type": "code",
   "execution_count": 1,
   "metadata": {},
   "outputs": [],
   "source": [
    "from pprint import pprint\n",
    "from scrapxiv.shelf import Shelf"
   ]
  },
  {
   "cell_type": "markdown",
   "metadata": {},
   "source": [
    "Intialise a shelf with a query for deep learning papers, starting from the 14th paper in the output query, and getting the first 10 results:"
   ]
  },
  {
   "cell_type": "code",
   "execution_count": 2,
   "metadata": {},
   "outputs": [],
   "source": [
    "shelf = Shelf()\n",
    "shelf.query(keywords=\"deep learning\", start_index=14, max_results=10)"
   ]
  },
  {
   "cell_type": "markdown",
   "metadata": {},
   "source": [
    "Getting the basic information of the papers in the shelf:"
   ]
  },
  {
   "cell_type": "code",
   "execution_count": 3,
   "metadata": {},
   "outputs": [
    {
     "output_type": "execute_result",
     "data": {
      "text/plain": "['1801.07883v2',\n '1710.06798v1',\n '1801.00631v1',\n '1802.00810v2',\n '1807.06399v1',\n '1708.05866v2',\n '2005.10247v1',\n '1703.02910v1',\n '2004.00993v2',\n '1807.04739v1']"
     },
     "metadata": {},
     "execution_count": 3
    }
   ],
   "source": [
    "shelf.get_papers_ids()"
   ]
  },
  {
   "cell_type": "code",
   "execution_count": 4,
   "metadata": {},
   "outputs": [
    {
     "output_type": "stream",
     "name": "stdout",
     "text": "{'1703.02910v1': {'authors': ['Yarin Gal',\n                              'Riashat Islam',\n                              'Zoubin Ghahramani'],\n                  'date': '2017-03-08T16:53:57Z',\n                  'title': 'Deep Bayesian Active Learning with Image Data'},\n '1708.05866v2': {'authors': ['Kai Arulkumaran',\n                              'Marc Peter Deisenroth',\n                              'Miles Brundage',\n                              'Anil Anthony Bharath'],\n                  'date': '2017-08-19T15:55:31Z',\n                  'title': 'A Brief Survey of Deep Reinforcement Learning'},\n '1710.06798v1': {'authors': ['Jaya Thomas', 'Sonia Thomas', 'Lee Sael'],\n                  'date': '2017-10-17T14:09:00Z',\n                  'title': 'Feature versus Raw Sequence: Deep Learning '\n                           'Comparative Study onPredicting Pre-miRNA'},\n '1801.00631v1': {'authors': ['Gary Marcus'],\n                  'date': '2018-01-02T12:49:35Z',\n                  'title': 'Deep Learning: A Critical Appraisal'},\n '1801.07883v2': {'authors': ['Lei Zhang', 'Shuai Wang', 'Bing Liu'],\n                  'date': '2018-01-24T07:32:29Z',\n                  'title': 'Deep Learning for Sentiment Analysis : A Survey'},\n '1802.00810v2': {'authors': ['Tianwei Yue', 'Haohan Wang'],\n                  'date': '2018-02-02T12:50:25Z',\n                  'title': 'Deep Learning for Genomics: A Concise Overview'},\n '1807.04739v1': {'authors': ['Majd Latah'],\n                  'date': '2018-07-12T17:44:42Z',\n                  'title': 'When deep learning meets security'},\n '1807.06399v1': {'authors': ['Maxwell Nye', 'Andrew Saxe'],\n                  'date': '2018-07-17T13:08:21Z',\n                  'title': 'Are Efficient Deep Representations Learnable?'},\n '2004.00993v2': {'authors': ['Xiao Lei Zhang', 'Anish Agarwal'],\n                  'date': '2020-03-31T18:08:23Z',\n                  'title': 'Augmented Q Imitation Learning (AQIL)'},\n '2005.10247v1': {'authors': ['Alexander Robey',\n                              'Hamed Hassani',\n                              'George J. Pappas'],\n                  'date': '2020-05-20T13:46:31Z',\n                  'title': 'Model-Based Robust Deep Learning'}}\n"
    }
   ],
   "source": [
    "from pprint import pprint\n",
    "pprint(shelf.get_papers_info())"
   ]
  },
  {
   "cell_type": "markdown",
   "metadata": {},
   "source": [
    "Download all the papers in the shelf in a local folder:"
   ]
  },
  {
   "cell_type": "code",
   "execution_count": 5,
   "metadata": {},
   "outputs": [
    {
     "output_type": "stream",
     "name": "stdout",
     "text": "Download paper http://arxiv.org/pdf/1802.00810v2.pdf finished.\nDownload paper http://arxiv.org/pdf/1807.06399v1.pdf finished.\nDownload paper http://arxiv.org/pdf/1801.00631v1.pdf finished.\nDownload paper http://arxiv.org/pdf/1807.04739v1.pdf finished.\nDownload paper http://arxiv.org/pdf/1703.02910v1.pdf finished.\nDownload paper http://arxiv.org/pdf/1710.06798v1.pdf finished.\nDownload paper http://arxiv.org/pdf/2004.00993v2.pdf finished.\nDownload paper http://arxiv.org/pdf/1801.07883v2.pdf finished.\nDownload paper http://arxiv.org/pdf/1708.05866v2.pdf finished.\nDownload paper http://arxiv.org/pdf/2005.10247v1.pdf finished.\n[Errno 104] Connection reset by peer\n"
    }
   ],
   "source": [
    "shelf.clean_download_folder()\n",
    "shelf.download_papers()"
   ]
  },
  {
   "cell_type": "code",
   "execution_count": 6,
   "metadata": {
    "tags": [
     "outputPrepend"
    ]
   },
   "outputs": [
    {
     "output_type": "execute_result",
     "data": {
      "text/plain": "                     name affiliation                   email      paper_id  \\\n0               Lei Zhang                  lzhang32@gmail.com  1801.07883v2   \n1              Shuai Wang               shuaiwanghk@gmail.com  1801.07883v2   \n2                Bing Liu                        liub@uic.edu  1801.07883v2   \n3             Jaya Thomas                                      1710.06798v1   \n4            Sonia Thomas                                      1710.06798v1   \n5                Lee Sael              sael@cs.stonybrook.edu  1710.06798v1   \n6             Gary Marcus                                      1801.00631v1   \n7             Tianwei Yue                 tyue@andrew.cmu.edu  1802.00810v2   \n8             Haohan Wang                  haohanw@cs.cmu.edu  1802.00810v2   \n9             Maxwell Nye                        mnye@mit.edu  1807.06399v1   \n10            Andrew Saxe               asaxe@fas.harvard.edu  1807.06399v1   \n11        Kai Arulkumaran                                      1708.05866v2   \n12  Marc Peter Deisenroth                                      1708.05866v2   \n13         Miles Brundage                                      1708.05866v2   \n14   Anil Anthony Bharath                                      1708.05866v2   \n15        Alexander Robey                                      2005.10247v1   \n16          Hamed Hassani                                      2005.10247v1   \n17       George J. Pappas                                      2005.10247v1   \n18              Yarin Gal                                      1703.02910v1   \n19          Riashat Islam                                      1703.02910v1   \n20      Zoubin Ghahramani                                      1703.02910v1   \n21         Xiao Lei Zhang               zhang205@cse.yorku.ca  2004.00993v2   \n22          Anish Agarwal                                      2004.00993v2   \n23             Majd Latah                 latahmajd@gmail.com  1807.04739v1   \n\n                                          paper_title  paper_published_date  \\\n0     Deep Learning for Sentiment Analysis : A Survey  2018-01-24T07:32:29Z   \n1     Deep Learning for Sentiment Analysis : A Survey  2018-01-24T07:32:29Z   \n2     Deep Learning for Sentiment Analysis : A Survey  2018-01-24T07:32:29Z   \n3   Feature versus Raw Sequence: Deep Learning Com...  2017-10-17T14:09:00Z   \n4   Feature versus Raw Sequence: Deep Learning Com...  2017-10-17T14:09:00Z   \n5   Feature versus Raw Sequence: Deep Learning Com...  2017-10-17T14:09:00Z   \n6                 Deep Learning: A Critical Appraisal  2018-01-02T12:49:35Z   \n7      Deep Learning for Genomics: A Concise Overview  2018-02-02T12:50:25Z   \n8      Deep Learning for Genomics: A Concise Overview  2018-02-02T12:50:25Z   \n9       Are Efficient Deep Representations Learnable?  2018-07-17T13:08:21Z   \n10      Are Efficient Deep Representations Learnable?  2018-07-17T13:08:21Z   \n11      A Brief Survey of Deep Reinforcement Learning  2017-08-19T15:55:31Z   \n12      A Brief Survey of Deep Reinforcement Learning  2017-08-19T15:55:31Z   \n13      A Brief Survey of Deep Reinforcement Learning  2017-08-19T15:55:31Z   \n14      A Brief Survey of Deep Reinforcement Learning  2017-08-19T15:55:31Z   \n15                   Model-Based Robust Deep Learning  2020-05-20T13:46:31Z   \n16                   Model-Based Robust Deep Learning  2020-05-20T13:46:31Z   \n17                   Model-Based Robust Deep Learning  2020-05-20T13:46:31Z   \n18      Deep Bayesian Active Learning with Image Data  2017-03-08T16:53:57Z   \n19      Deep Bayesian Active Learning with Image Data  2017-03-08T16:53:57Z   \n20      Deep Bayesian Active Learning with Image Data  2017-03-08T16:53:57Z   \n21              Augmented Q Imitation Learning (AQIL)  2020-03-31T18:08:23Z   \n22              Augmented Q Imitation Learning (AQIL)  2020-03-31T18:08:23Z   \n23                  When deep learning meets security  2018-07-12T17:44:42Z   \n\n   num_publications  \n0                 1  \n1                 1  \n2                 1  \n3                 1  \n4                 1  \n5                 1  \n6                 1  \n7                 1  \n8                 1  \n9                 1  \n10                1  \n11                1  \n12                1  \n13                1  \n14                1  \n15                1  \n16                1  \n17                1  \n18                1  \n19                1  \n20                1  \n21                1  \n22                1  \n23                1  ",
      "text/html": "<div>\n<style scoped>\n    .dataframe tbody tr th:only-of-type {\n        vertical-align: middle;\n    }\n\n    .dataframe tbody tr th {\n        vertical-align: top;\n    }\n\n    .dataframe thead th {\n        text-align: right;\n    }\n</style>\n<table border=\"1\" class=\"dataframe\">\n  <thead>\n    <tr style=\"text-align: right;\">\n      <th></th>\n      <th>name</th>\n      <th>affiliation</th>\n      <th>email</th>\n      <th>paper_id</th>\n      <th>paper_title</th>\n      <th>paper_published_date</th>\n      <th>num_publications</th>\n    </tr>\n  </thead>\n  <tbody>\n    <tr>\n      <th>0</th>\n      <td>Lei Zhang</td>\n      <td></td>\n      <td>lzhang32@gmail.com</td>\n      <td>1801.07883v2</td>\n      <td>Deep Learning for Sentiment Analysis : A Survey</td>\n      <td>2018-01-24T07:32:29Z</td>\n      <td>1</td>\n    </tr>\n    <tr>\n      <th>1</th>\n      <td>Shuai Wang</td>\n      <td></td>\n      <td>shuaiwanghk@gmail.com</td>\n      <td>1801.07883v2</td>\n      <td>Deep Learning for Sentiment Analysis : A Survey</td>\n      <td>2018-01-24T07:32:29Z</td>\n      <td>1</td>\n    </tr>\n    <tr>\n      <th>2</th>\n      <td>Bing Liu</td>\n      <td></td>\n      <td>liub@uic.edu</td>\n      <td>1801.07883v2</td>\n      <td>Deep Learning for Sentiment Analysis : A Survey</td>\n      <td>2018-01-24T07:32:29Z</td>\n      <td>1</td>\n    </tr>\n    <tr>\n      <th>3</th>\n      <td>Jaya Thomas</td>\n      <td></td>\n      <td></td>\n      <td>1710.06798v1</td>\n      <td>Feature versus Raw Sequence: Deep Learning Com...</td>\n      <td>2017-10-17T14:09:00Z</td>\n      <td>1</td>\n    </tr>\n    <tr>\n      <th>4</th>\n      <td>Sonia Thomas</td>\n      <td></td>\n      <td></td>\n      <td>1710.06798v1</td>\n      <td>Feature versus Raw Sequence: Deep Learning Com...</td>\n      <td>2017-10-17T14:09:00Z</td>\n      <td>1</td>\n    </tr>\n    <tr>\n      <th>5</th>\n      <td>Lee Sael</td>\n      <td></td>\n      <td>sael@cs.stonybrook.edu</td>\n      <td>1710.06798v1</td>\n      <td>Feature versus Raw Sequence: Deep Learning Com...</td>\n      <td>2017-10-17T14:09:00Z</td>\n      <td>1</td>\n    </tr>\n    <tr>\n      <th>6</th>\n      <td>Gary Marcus</td>\n      <td></td>\n      <td></td>\n      <td>1801.00631v1</td>\n      <td>Deep Learning: A Critical Appraisal</td>\n      <td>2018-01-02T12:49:35Z</td>\n      <td>1</td>\n    </tr>\n    <tr>\n      <th>7</th>\n      <td>Tianwei Yue</td>\n      <td></td>\n      <td>tyue@andrew.cmu.edu</td>\n      <td>1802.00810v2</td>\n      <td>Deep Learning for Genomics: A Concise Overview</td>\n      <td>2018-02-02T12:50:25Z</td>\n      <td>1</td>\n    </tr>\n    <tr>\n      <th>8</th>\n      <td>Haohan Wang</td>\n      <td></td>\n      <td>haohanw@cs.cmu.edu</td>\n      <td>1802.00810v2</td>\n      <td>Deep Learning for Genomics: A Concise Overview</td>\n      <td>2018-02-02T12:50:25Z</td>\n      <td>1</td>\n    </tr>\n    <tr>\n      <th>9</th>\n      <td>Maxwell Nye</td>\n      <td></td>\n      <td>mnye@mit.edu</td>\n      <td>1807.06399v1</td>\n      <td>Are Efficient Deep Representations Learnable?</td>\n      <td>2018-07-17T13:08:21Z</td>\n      <td>1</td>\n    </tr>\n    <tr>\n      <th>10</th>\n      <td>Andrew Saxe</td>\n      <td></td>\n      <td>asaxe@fas.harvard.edu</td>\n      <td>1807.06399v1</td>\n      <td>Are Efficient Deep Representations Learnable?</td>\n      <td>2018-07-17T13:08:21Z</td>\n      <td>1</td>\n    </tr>\n    <tr>\n      <th>11</th>\n      <td>Kai Arulkumaran</td>\n      <td></td>\n      <td></td>\n      <td>1708.05866v2</td>\n      <td>A Brief Survey of Deep Reinforcement Learning</td>\n      <td>2017-08-19T15:55:31Z</td>\n      <td>1</td>\n    </tr>\n    <tr>\n      <th>12</th>\n      <td>Marc Peter Deisenroth</td>\n      <td></td>\n      <td></td>\n      <td>1708.05866v2</td>\n      <td>A Brief Survey of Deep Reinforcement Learning</td>\n      <td>2017-08-19T15:55:31Z</td>\n      <td>1</td>\n    </tr>\n    <tr>\n      <th>13</th>\n      <td>Miles Brundage</td>\n      <td></td>\n      <td></td>\n      <td>1708.05866v2</td>\n      <td>A Brief Survey of Deep Reinforcement Learning</td>\n      <td>2017-08-19T15:55:31Z</td>\n      <td>1</td>\n    </tr>\n    <tr>\n      <th>14</th>\n      <td>Anil Anthony Bharath</td>\n      <td></td>\n      <td></td>\n      <td>1708.05866v2</td>\n      <td>A Brief Survey of Deep Reinforcement Learning</td>\n      <td>2017-08-19T15:55:31Z</td>\n      <td>1</td>\n    </tr>\n    <tr>\n      <th>15</th>\n      <td>Alexander Robey</td>\n      <td></td>\n      <td></td>\n      <td>2005.10247v1</td>\n      <td>Model-Based Robust Deep Learning</td>\n      <td>2020-05-20T13:46:31Z</td>\n      <td>1</td>\n    </tr>\n    <tr>\n      <th>16</th>\n      <td>Hamed Hassani</td>\n      <td></td>\n      <td></td>\n      <td>2005.10247v1</td>\n      <td>Model-Based Robust Deep Learning</td>\n      <td>2020-05-20T13:46:31Z</td>\n      <td>1</td>\n    </tr>\n    <tr>\n      <th>17</th>\n      <td>George J. Pappas</td>\n      <td></td>\n      <td></td>\n      <td>2005.10247v1</td>\n      <td>Model-Based Robust Deep Learning</td>\n      <td>2020-05-20T13:46:31Z</td>\n      <td>1</td>\n    </tr>\n    <tr>\n      <th>18</th>\n      <td>Yarin Gal</td>\n      <td></td>\n      <td></td>\n      <td>1703.02910v1</td>\n      <td>Deep Bayesian Active Learning with Image Data</td>\n      <td>2017-03-08T16:53:57Z</td>\n      <td>1</td>\n    </tr>\n    <tr>\n      <th>19</th>\n      <td>Riashat Islam</td>\n      <td></td>\n      <td></td>\n      <td>1703.02910v1</td>\n      <td>Deep Bayesian Active Learning with Image Data</td>\n      <td>2017-03-08T16:53:57Z</td>\n      <td>1</td>\n    </tr>\n    <tr>\n      <th>20</th>\n      <td>Zoubin Ghahramani</td>\n      <td></td>\n      <td></td>\n      <td>1703.02910v1</td>\n      <td>Deep Bayesian Active Learning with Image Data</td>\n      <td>2017-03-08T16:53:57Z</td>\n      <td>1</td>\n    </tr>\n    <tr>\n      <th>21</th>\n      <td>Xiao Lei Zhang</td>\n      <td></td>\n      <td>zhang205@cse.yorku.ca</td>\n      <td>2004.00993v2</td>\n      <td>Augmented Q Imitation Learning (AQIL)</td>\n      <td>2020-03-31T18:08:23Z</td>\n      <td>1</td>\n    </tr>\n    <tr>\n      <th>22</th>\n      <td>Anish Agarwal</td>\n      <td></td>\n      <td></td>\n      <td>2004.00993v2</td>\n      <td>Augmented Q Imitation Learning (AQIL)</td>\n      <td>2020-03-31T18:08:23Z</td>\n      <td>1</td>\n    </tr>\n    <tr>\n      <th>23</th>\n      <td>Majd Latah</td>\n      <td></td>\n      <td>latahmajd@gmail.com</td>\n      <td>1807.04739v1</td>\n      <td>When deep learning meets security</td>\n      <td>2018-07-12T17:44:42Z</td>\n      <td>1</td>\n    </tr>\n  </tbody>\n</table>\n</div>"
     },
     "metadata": {},
     "execution_count": 6
    }
   ],
   "source": [
    "pd.set_option('display.max_rows', 100)\n",
    "shelf.get_authors_dataframe(get_emails=True)"
   ]
  },
  {
   "cell_type": "markdown",
   "metadata": {},
   "source": [
    "## Example 2\n",
    "Query authors data from the first 8 papers, filtering with the keywords \"sub multisets\"."
   ]
  },
  {
   "cell_type": "code",
   "execution_count": 7,
   "metadata": {},
   "outputs": [],
   "source": [
    "shelf = Shelf()\n",
    "shelf.query(keywords=\"sub multisets\", start_index=1, max_results=8)\n"
   ]
  },
  {
   "cell_type": "code",
   "execution_count": 8,
   "metadata": {},
   "outputs": [
    {
     "output_type": "execute_result",
     "data": {
      "text/plain": "                        name affiliation email      paper_id  \\\n0      Jean-Baptiste Gramain                     1101.5071v2   \n1             Jorn B. Olsson                     1101.5071v2   \n2   Håkon Robbestad Gylterud                    1612.05468v1   \n3             Mark Sh. Levin                     1205.2046v1   \n4     Christian Steinruecken                     1401.6410v1   \n5        Rinovia Simanjuntak                    1711.00225v2   \n6             Presli Siagian                    1711.00225v2   \n7               Tomas Vetrik                    1711.00225v2   \n8         Boris L. Granovsky                       0407322v3   \n9               Dudley Stark                       0407322v3   \n10              Renzo Angles                    1610.04315v1   \n11         Claudio Gutierrez                    1610.04315v1   \n\n                                          paper_title  paper_published_date  \\\n0                        On bar lengths in partitions  2011-01-26T14:47:11Z   \n1                        On bar lengths in partitions  2011-01-26T14:47:11Z   \n2     From Multisets to Sets in Hotmotopy Type Theory  2016-12-16T13:52:57Z   \n3      Multiset Estimates and Combinatorial Synthesis  2012-05-09T17:42:36Z   \n4         Compressing Sets and Multisets of Sequences  2014-01-24T17:36:32Z   \n5                    The multiset dimension of graphs  2017-11-01T07:01:49Z   \n6                    The multiset dimension of graphs  2017-11-01T07:01:49Z   \n7                    The multiset dimension of graphs  2017-11-01T07:01:49Z   \n8   Asymptotic enumeration and logical limit laws ...  2004-07-19T12:11:23Z   \n9   Asymptotic enumeration and logical limit laws ...  2004-07-19T12:11:23Z   \n10          The multiset semantics of SPARQL patterns  2016-10-14T03:19:54Z   \n11          The multiset semantics of SPARQL patterns  2016-10-14T03:19:54Z   \n\n   num_publications  \n0                 1  \n1                 1  \n2                 1  \n3                 1  \n4                 1  \n5                 1  \n6                 1  \n7                 1  \n8                 1  \n9                 1  \n10                1  \n11                1  ",
      "text/html": "<div>\n<style scoped>\n    .dataframe tbody tr th:only-of-type {\n        vertical-align: middle;\n    }\n\n    .dataframe tbody tr th {\n        vertical-align: top;\n    }\n\n    .dataframe thead th {\n        text-align: right;\n    }\n</style>\n<table border=\"1\" class=\"dataframe\">\n  <thead>\n    <tr style=\"text-align: right;\">\n      <th></th>\n      <th>name</th>\n      <th>affiliation</th>\n      <th>email</th>\n      <th>paper_id</th>\n      <th>paper_title</th>\n      <th>paper_published_date</th>\n      <th>num_publications</th>\n    </tr>\n  </thead>\n  <tbody>\n    <tr>\n      <th>0</th>\n      <td>Jean-Baptiste Gramain</td>\n      <td></td>\n      <td></td>\n      <td>1101.5071v2</td>\n      <td>On bar lengths in partitions</td>\n      <td>2011-01-26T14:47:11Z</td>\n      <td>1</td>\n    </tr>\n    <tr>\n      <th>1</th>\n      <td>Jorn B. Olsson</td>\n      <td></td>\n      <td></td>\n      <td>1101.5071v2</td>\n      <td>On bar lengths in partitions</td>\n      <td>2011-01-26T14:47:11Z</td>\n      <td>1</td>\n    </tr>\n    <tr>\n      <th>2</th>\n      <td>Håkon Robbestad Gylterud</td>\n      <td></td>\n      <td></td>\n      <td>1612.05468v1</td>\n      <td>From Multisets to Sets in Hotmotopy Type Theory</td>\n      <td>2016-12-16T13:52:57Z</td>\n      <td>1</td>\n    </tr>\n    <tr>\n      <th>3</th>\n      <td>Mark Sh. Levin</td>\n      <td></td>\n      <td></td>\n      <td>1205.2046v1</td>\n      <td>Multiset Estimates and Combinatorial Synthesis</td>\n      <td>2012-05-09T17:42:36Z</td>\n      <td>1</td>\n    </tr>\n    <tr>\n      <th>4</th>\n      <td>Christian Steinruecken</td>\n      <td></td>\n      <td></td>\n      <td>1401.6410v1</td>\n      <td>Compressing Sets and Multisets of Sequences</td>\n      <td>2014-01-24T17:36:32Z</td>\n      <td>1</td>\n    </tr>\n    <tr>\n      <th>5</th>\n      <td>Rinovia Simanjuntak</td>\n      <td></td>\n      <td></td>\n      <td>1711.00225v2</td>\n      <td>The multiset dimension of graphs</td>\n      <td>2017-11-01T07:01:49Z</td>\n      <td>1</td>\n    </tr>\n    <tr>\n      <th>6</th>\n      <td>Presli Siagian</td>\n      <td></td>\n      <td></td>\n      <td>1711.00225v2</td>\n      <td>The multiset dimension of graphs</td>\n      <td>2017-11-01T07:01:49Z</td>\n      <td>1</td>\n    </tr>\n    <tr>\n      <th>7</th>\n      <td>Tomas Vetrik</td>\n      <td></td>\n      <td></td>\n      <td>1711.00225v2</td>\n      <td>The multiset dimension of graphs</td>\n      <td>2017-11-01T07:01:49Z</td>\n      <td>1</td>\n    </tr>\n    <tr>\n      <th>8</th>\n      <td>Boris L. Granovsky</td>\n      <td></td>\n      <td></td>\n      <td>0407322v3</td>\n      <td>Asymptotic enumeration and logical limit laws ...</td>\n      <td>2004-07-19T12:11:23Z</td>\n      <td>1</td>\n    </tr>\n    <tr>\n      <th>9</th>\n      <td>Dudley Stark</td>\n      <td></td>\n      <td></td>\n      <td>0407322v3</td>\n      <td>Asymptotic enumeration and logical limit laws ...</td>\n      <td>2004-07-19T12:11:23Z</td>\n      <td>1</td>\n    </tr>\n    <tr>\n      <th>10</th>\n      <td>Renzo Angles</td>\n      <td></td>\n      <td></td>\n      <td>1610.04315v1</td>\n      <td>The multiset semantics of SPARQL patterns</td>\n      <td>2016-10-14T03:19:54Z</td>\n      <td>1</td>\n    </tr>\n    <tr>\n      <th>11</th>\n      <td>Claudio Gutierrez</td>\n      <td></td>\n      <td></td>\n      <td>1610.04315v1</td>\n      <td>The multiset semantics of SPARQL patterns</td>\n      <td>2016-10-14T03:19:54Z</td>\n      <td>1</td>\n    </tr>\n  </tbody>\n</table>\n</div>"
     },
     "metadata": {},
     "execution_count": 8
    }
   ],
   "source": [
    "pd.set_option('display.max_rows', 78)\n",
    "df_multiset = shelf.get_authors_dataframe()\n",
    "df_multiset"
   ]
  },
  {
   "cell_type": "code",
   "execution_count": 9,
   "metadata": {},
   "outputs": [
    {
     "output_type": "stream",
     "name": "stdout",
     "text": "Http can not retrieve the paper http://arxiv.org/pdf/0407322v3.pdf\nDownload paper http://arxiv.org/pdf/1711.00225v2.pdf finished.\nDownload paper http://arxiv.org/pdf/1401.6410v1.pdf finished.\nDownload paper http://arxiv.org/pdf/1610.04315v1.pdf finished.\nDownload paper http://arxiv.org/pdf/1205.2046v1.pdf finished.\nDownload paper http://arxiv.org/pdf/1612.05468v1.pdf finished.\nDownload paper http://arxiv.org/pdf/1101.5071v2.pdf finished.\nDownload paper http://arxiv.org/pdf/1610.08027v1.pdf finished.\n{'1101.5071v2': <pdftotext.PDF object at 0x7f3bc5ced030>,\n '1205.2046v1': <pdftotext.PDF object at 0x7f3bc5ced4b0>,\n '1401.6410v1': <pdftotext.PDF object at 0x7f3bc5d1dde0>,\n '1610.04315v1': <pdftotext.PDF object at 0x7f3bc5d1d240>,\n '1610.08027v1': <pdftotext.PDF object at 0x7f3bc5ced960>,\n '1612.05468v1': <pdftotext.PDF object at 0x7f3bc5ced990>,\n '1703.02910v1': <pdftotext.PDF object at 0x7f3bc5ceddb0>,\n '1708.05866v2': <pdftotext.PDF object at 0x7f3bc5d1dfc0>,\n '1710.06798v1': <pdftotext.PDF object at 0x7f3bc5cedc90>,\n '1711.00225v2': <pdftotext.PDF object at 0x7f3b8dd7cb70>,\n '1801.00631v1': <pdftotext.PDF object at 0x7f3bc5ced570>,\n '1801.07883v2': <pdftotext.PDF object at 0x7f3bc5ced420>,\n '1802.00810v2': <pdftotext.PDF object at 0x7f3bc5d0bfc0>,\n '1807.04739v1': <pdftotext.PDF object at 0x7f3bc5d1d450>,\n '1807.06399v1': <pdftotext.PDF object at 0x7f3b8dd7c0f0>,\n '2004.00993v2': <pdftotext.PDF object at 0x7f3bc5cedcf0>,\n '2005.10247v1': <pdftotext.PDF object at 0x7f3bc5cedf60>}\n"
    }
   ],
   "source": [
    "dict_texts = shelf.fetch_texts()\n",
    "pprint(dict_texts)"
   ]
  }
 ],
 "metadata": {
  "language_info": {
   "codemirror_mode": {
    "name": "ipython",
    "version": 3
   },
   "file_extension": ".py",
   "mimetype": "text/x-python",
   "name": "python",
   "nbconvert_exporter": "python",
   "pygments_lexer": "ipython3",
   "version": "3.8.1-final"
  },
  "orig_nbformat": 2,
  "kernelspec": {
   "name": "python38164bitvenvvirtualenv9c48974b4cc547d281478ffe88dc3f40",
   "display_name": "Python 3.8.1 64-bit ('venv': virtualenv)"
  }
 },
 "nbformat": 4,
 "nbformat_minor": 2
}