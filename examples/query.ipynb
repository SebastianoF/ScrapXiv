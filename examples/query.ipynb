{
 "cells": [
  {
   "cell_type": "markdown",
   "metadata": {},
   "source": [
    "# Query examples"
   ]
  },
  {
   "cell_type": "markdown",
   "metadata": {},
   "source": [
    "## Example 1\n",
    "\n",
    "Parse the authors name of the 14th paper in the paper list queried with \"particles\", and the following 10."
   ]
  },
  {
   "cell_type": "code",
   "execution_count": 15,
   "metadata": {},
   "outputs": [],
   "source": [
    "import pandas as pd\n",
    "from pprint import pprint\n",
    "from scrapxiv.shelf import Shelf"
   ]
  },
  {
   "cell_type": "markdown",
   "metadata": {},
   "source": [
    "Intialise a shelf with a query for deep learning papers, starting from the 14th paper in the output query, and getting the first 10 results:"
   ]
  },
  {
   "cell_type": "code",
   "execution_count": 17,
   "metadata": {},
   "outputs": [],
   "source": [
    "shelf = Shelf()\n",
    "shelf.query(keywords=\"deep learning\", start_index=14, max_results=10)"
   ]
  },
  {
   "cell_type": "markdown",
   "metadata": {},
   "source": [
    "Getting the basic information of the papers in the shelf:"
   ]
  },
  {
   "cell_type": "code",
   "execution_count": 19,
   "metadata": {},
   "outputs": [
    {
     "output_type": "execute_result",
     "data": {
      "text/plain": "['1101.5071v2',\n '1612.05468v1',\n '1205.2046v1',\n '1401.6410v1',\n '1711.00225v2',\n '0407322v3',\n '1610.04315v1',\n '1610.08027v1']"
     },
     "metadata": {},
     "execution_count": 19
    }
   ],
   "source": [
    "shelf.get_papers_ids()"
   ]
  },
  {
   "cell_type": "code",
   "execution_count": 21,
   "metadata": {
    "tags": []
   },
   "outputs": [
    {
     "output_type": "stream",
     "name": "stdout",
     "text": "{'0407322v3': {'authors': ['Boris L. Granovsky', 'Dudley Stark'],\n               'date': '2004-07-19T12:11:23Z',\n               'title': 'Asymptotic enumeration and logical limit laws for '\n                        'expansive multisetsand selections'},\n '1101.5071v2': {'authors': ['Jean-Baptiste Gramain', 'Jorn B. Olsson'],\n                 'date': '2011-01-26T14:47:11Z',\n                 'title': 'On bar lengths in partitions'},\n '1205.2046v1': {'authors': ['Mark Sh. Levin'],\n                 'date': '2012-05-09T17:42:36Z',\n                 'title': 'Multiset Estimates and Combinatorial Synthesis'},\n '1401.6410v1': {'authors': ['Christian Steinruecken'],\n                 'date': '2014-01-24T17:36:32Z',\n                 'title': 'Compressing Sets and Multisets of Sequences'},\n '1610.04315v1': {'authors': ['Renzo Angles', 'Claudio Gutierrez'],\n                  'date': '2016-10-14T03:19:54Z',\n                  'title': 'The multiset semantics of SPARQL patterns'},\n '1610.08027v1': {'authors': ['Håkon Robbestad Gylterud'],\n                  'date': '2016-10-25T19:24:41Z',\n                  'title': 'Multisets in Type Theory'},\n '1612.05468v1': {'authors': ['Håkon Robbestad Gylterud'],\n                  'date': '2016-12-16T13:52:57Z',\n                  'title': 'From Multisets to Sets in Hotmotopy Type Theory'},\n '1711.00225v2': {'authors': ['Rinovia Simanjuntak',\n                              'Presli Siagian',\n                              'Tomas Vetrik'],\n                  'date': '2017-11-01T07:01:49Z',\n                  'title': 'The multiset dimension of graphs'}}\n"
    }
   ],
   "source": [
    "from pprint import pprint\n",
    "pprint(shelf.get_papers_info())"
   ]
  },
  {
   "cell_type": "markdown",
   "metadata": {},
   "source": [
    "Download all the papers in the shelf in a local folder:"
   ]
  },
  {
   "cell_type": "code",
   "execution_count": 23,
   "metadata": {
    "tags": []
   },
   "outputs": [
    {
     "output_type": "stream",
     "name": "stdout",
     "text": "Http can not retrieve the paper http://arxiv.org/pdf/0407322v3.pdf\nDownload paper http://arxiv.org/pdf/1711.00225v2.pdf finished.\nDownload paper http://arxiv.org/pdf/1610.04315v1.pdf finished.\nDownload paper http://arxiv.org/pdf/1101.5071v2.pdf finished.\nDownload paper http://arxiv.org/pdf/1205.2046v1.pdf finished.\nDownload paper http://arxiv.org/pdf/1401.6410v1.pdf finished.\nDownload paper http://arxiv.org/pdf/1610.08027v1.pdf finished.\nDownload paper http://arxiv.org/pdf/1612.05468v1.pdf finished.\n"
    }
   ],
   "source": [
    "shelf.clean_download_folder()\n",
    "shelf.download_papers()"
   ]
  },
  {
   "cell_type": "code",
   "execution_count": 24,
   "metadata": {
    "tags": []
   },
   "outputs": [
    {
     "output_type": "stream",
     "name": "stdout",
     "text": "Http can not retrieve the paper http://arxiv.org/pdf/0407322v3.pdf\nPdf not found in /Users/sferraris/repos2/ScrapXiv/tmp/0407322v3.pdf.\n"
    },
    {
     "output_type": "execute_result",
     "data": {
      "text/plain": "                        name affiliation email      paper_id  \\\n0      Jean-Baptiste Gramain                     1101.5071v2   \n1             Jorn B. Olsson                     1101.5071v2   \n2   Håkon Robbestad Gylterud                    1612.05468v1   \n3             Mark Sh. Levin                     1205.2046v1   \n4     Christian Steinruecken                     1401.6410v1   \n5        Rinovia Simanjuntak                    1711.00225v2   \n6             Presli Siagian                    1711.00225v2   \n7               Tomas Vetrik                    1711.00225v2   \n8         Boris L. Granovsky                       0407322v3   \n9               Dudley Stark                       0407322v3   \n10              Renzo Angles                    1610.04315v1   \n11         Claudio Gutierrez                    1610.04315v1   \n\n                                          paper_title  paper_published_date  \\\n0                        On bar lengths in partitions  2011-01-26T14:47:11Z   \n1                        On bar lengths in partitions  2011-01-26T14:47:11Z   \n2     From Multisets to Sets in Hotmotopy Type Theory  2016-12-16T13:52:57Z   \n3      Multiset Estimates and Combinatorial Synthesis  2012-05-09T17:42:36Z   \n4         Compressing Sets and Multisets of Sequences  2014-01-24T17:36:32Z   \n5                    The multiset dimension of graphs  2017-11-01T07:01:49Z   \n6                    The multiset dimension of graphs  2017-11-01T07:01:49Z   \n7                    The multiset dimension of graphs  2017-11-01T07:01:49Z   \n8   Asymptotic enumeration and logical limit laws ...  2004-07-19T12:11:23Z   \n9   Asymptotic enumeration and logical limit laws ...  2004-07-19T12:11:23Z   \n10          The multiset semantics of SPARQL patterns  2016-10-14T03:19:54Z   \n11          The multiset semantics of SPARQL patterns  2016-10-14T03:19:54Z   \n\n   paper_found  \n0            1  \n1            1  \n2            1  \n3            1  \n4            1  \n5            1  \n6            1  \n7            1  \n8            1  \n9            1  \n10           1  \n11           1  ",
      "text/html": "<div>\n<style scoped>\n    .dataframe tbody tr th:only-of-type {\n        vertical-align: middle;\n    }\n\n    .dataframe tbody tr th {\n        vertical-align: top;\n    }\n\n    .dataframe thead th {\n        text-align: right;\n    }\n</style>\n<table border=\"1\" class=\"dataframe\">\n  <thead>\n    <tr style=\"text-align: right;\">\n      <th></th>\n      <th>name</th>\n      <th>affiliation</th>\n      <th>email</th>\n      <th>paper_id</th>\n      <th>paper_title</th>\n      <th>paper_published_date</th>\n      <th>paper_found</th>\n    </tr>\n  </thead>\n  <tbody>\n    <tr>\n      <th>0</th>\n      <td>Jean-Baptiste Gramain</td>\n      <td></td>\n      <td></td>\n      <td>1101.5071v2</td>\n      <td>On bar lengths in partitions</td>\n      <td>2011-01-26T14:47:11Z</td>\n      <td>1</td>\n    </tr>\n    <tr>\n      <th>1</th>\n      <td>Jorn B. Olsson</td>\n      <td></td>\n      <td></td>\n      <td>1101.5071v2</td>\n      <td>On bar lengths in partitions</td>\n      <td>2011-01-26T14:47:11Z</td>\n      <td>1</td>\n    </tr>\n    <tr>\n      <th>2</th>\n      <td>Håkon Robbestad Gylterud</td>\n      <td></td>\n      <td></td>\n      <td>1612.05468v1</td>\n      <td>From Multisets to Sets in Hotmotopy Type Theory</td>\n      <td>2016-12-16T13:52:57Z</td>\n      <td>1</td>\n    </tr>\n    <tr>\n      <th>3</th>\n      <td>Mark Sh. Levin</td>\n      <td></td>\n      <td></td>\n      <td>1205.2046v1</td>\n      <td>Multiset Estimates and Combinatorial Synthesis</td>\n      <td>2012-05-09T17:42:36Z</td>\n      <td>1</td>\n    </tr>\n    <tr>\n      <th>4</th>\n      <td>Christian Steinruecken</td>\n      <td></td>\n      <td></td>\n      <td>1401.6410v1</td>\n      <td>Compressing Sets and Multisets of Sequences</td>\n      <td>2014-01-24T17:36:32Z</td>\n      <td>1</td>\n    </tr>\n    <tr>\n      <th>5</th>\n      <td>Rinovia Simanjuntak</td>\n      <td></td>\n      <td></td>\n      <td>1711.00225v2</td>\n      <td>The multiset dimension of graphs</td>\n      <td>2017-11-01T07:01:49Z</td>\n      <td>1</td>\n    </tr>\n    <tr>\n      <th>6</th>\n      <td>Presli Siagian</td>\n      <td></td>\n      <td></td>\n      <td>1711.00225v2</td>\n      <td>The multiset dimension of graphs</td>\n      <td>2017-11-01T07:01:49Z</td>\n      <td>1</td>\n    </tr>\n    <tr>\n      <th>7</th>\n      <td>Tomas Vetrik</td>\n      <td></td>\n      <td></td>\n      <td>1711.00225v2</td>\n      <td>The multiset dimension of graphs</td>\n      <td>2017-11-01T07:01:49Z</td>\n      <td>1</td>\n    </tr>\n    <tr>\n      <th>8</th>\n      <td>Boris L. Granovsky</td>\n      <td></td>\n      <td></td>\n      <td>0407322v3</td>\n      <td>Asymptotic enumeration and logical limit laws ...</td>\n      <td>2004-07-19T12:11:23Z</td>\n      <td>1</td>\n    </tr>\n    <tr>\n      <th>9</th>\n      <td>Dudley Stark</td>\n      <td></td>\n      <td></td>\n      <td>0407322v3</td>\n      <td>Asymptotic enumeration and logical limit laws ...</td>\n      <td>2004-07-19T12:11:23Z</td>\n      <td>1</td>\n    </tr>\n    <tr>\n      <th>10</th>\n      <td>Renzo Angles</td>\n      <td></td>\n      <td></td>\n      <td>1610.04315v1</td>\n      <td>The multiset semantics of SPARQL patterns</td>\n      <td>2016-10-14T03:19:54Z</td>\n      <td>1</td>\n    </tr>\n    <tr>\n      <th>11</th>\n      <td>Claudio Gutierrez</td>\n      <td></td>\n      <td></td>\n      <td>1610.04315v1</td>\n      <td>The multiset semantics of SPARQL patterns</td>\n      <td>2016-10-14T03:19:54Z</td>\n      <td>1</td>\n    </tr>\n  </tbody>\n</table>\n</div>"
     },
     "metadata": {},
     "execution_count": 24
    }
   ],
   "source": [
    "pd.set_option('display.max_rows', 100)\n",
    "shelf.get_authors_dataframe(get_emails=True)"
   ]
  },
  {
   "cell_type": "markdown",
   "metadata": {},
   "source": [
    "## Example 2\n",
    "Query authors data from the first 8 papers, filtering with the keywords \"sub multisets\"."
   ]
  },
  {
   "cell_type": "code",
   "execution_count": 25,
   "metadata": {},
   "outputs": [],
   "source": [
    "shelf = Shelf()\n",
    "shelf.query(keywords=\"sub multisets\", start_index=1, max_results=8)\n"
   ]
  },
  {
   "cell_type": "code",
   "execution_count": 26,
   "metadata": {},
   "outputs": [
    {
     "output_type": "execute_result",
     "data": {
      "text/plain": "                        name affiliation email      paper_id  \\\n0      Jean-Baptiste Gramain                     1101.5071v2   \n1             Jorn B. Olsson                     1101.5071v2   \n2   Håkon Robbestad Gylterud                    1612.05468v1   \n3             Mark Sh. Levin                     1205.2046v1   \n4     Christian Steinruecken                     1401.6410v1   \n5        Rinovia Simanjuntak                    1711.00225v2   \n6             Presli Siagian                    1711.00225v2   \n7               Tomas Vetrik                    1711.00225v2   \n8         Boris L. Granovsky                       0407322v3   \n9               Dudley Stark                       0407322v3   \n10              Renzo Angles                    1610.04315v1   \n11         Claudio Gutierrez                    1610.04315v1   \n\n                                          paper_title  paper_published_date  \\\n0                        On bar lengths in partitions  2011-01-26T14:47:11Z   \n1                        On bar lengths in partitions  2011-01-26T14:47:11Z   \n2     From Multisets to Sets in Hotmotopy Type Theory  2016-12-16T13:52:57Z   \n3      Multiset Estimates and Combinatorial Synthesis  2012-05-09T17:42:36Z   \n4         Compressing Sets and Multisets of Sequences  2014-01-24T17:36:32Z   \n5                    The multiset dimension of graphs  2017-11-01T07:01:49Z   \n6                    The multiset dimension of graphs  2017-11-01T07:01:49Z   \n7                    The multiset dimension of graphs  2017-11-01T07:01:49Z   \n8   Asymptotic enumeration and logical limit laws ...  2004-07-19T12:11:23Z   \n9   Asymptotic enumeration and logical limit laws ...  2004-07-19T12:11:23Z   \n10          The multiset semantics of SPARQL patterns  2016-10-14T03:19:54Z   \n11          The multiset semantics of SPARQL patterns  2016-10-14T03:19:54Z   \n\n   paper_found  \n0            1  \n1            1  \n2            1  \n3            1  \n4            1  \n5            1  \n6            1  \n7            1  \n8            1  \n9            1  \n10           1  \n11           1  ",
      "text/html": "<div>\n<style scoped>\n    .dataframe tbody tr th:only-of-type {\n        vertical-align: middle;\n    }\n\n    .dataframe tbody tr th {\n        vertical-align: top;\n    }\n\n    .dataframe thead th {\n        text-align: right;\n    }\n</style>\n<table border=\"1\" class=\"dataframe\">\n  <thead>\n    <tr style=\"text-align: right;\">\n      <th></th>\n      <th>name</th>\n      <th>affiliation</th>\n      <th>email</th>\n      <th>paper_id</th>\n      <th>paper_title</th>\n      <th>paper_published_date</th>\n      <th>paper_found</th>\n    </tr>\n  </thead>\n  <tbody>\n    <tr>\n      <th>0</th>\n      <td>Jean-Baptiste Gramain</td>\n      <td></td>\n      <td></td>\n      <td>1101.5071v2</td>\n      <td>On bar lengths in partitions</td>\n      <td>2011-01-26T14:47:11Z</td>\n      <td>1</td>\n    </tr>\n    <tr>\n      <th>1</th>\n      <td>Jorn B. Olsson</td>\n      <td></td>\n      <td></td>\n      <td>1101.5071v2</td>\n      <td>On bar lengths in partitions</td>\n      <td>2011-01-26T14:47:11Z</td>\n      <td>1</td>\n    </tr>\n    <tr>\n      <th>2</th>\n      <td>Håkon Robbestad Gylterud</td>\n      <td></td>\n      <td></td>\n      <td>1612.05468v1</td>\n      <td>From Multisets to Sets in Hotmotopy Type Theory</td>\n      <td>2016-12-16T13:52:57Z</td>\n      <td>1</td>\n    </tr>\n    <tr>\n      <th>3</th>\n      <td>Mark Sh. Levin</td>\n      <td></td>\n      <td></td>\n      <td>1205.2046v1</td>\n      <td>Multiset Estimates and Combinatorial Synthesis</td>\n      <td>2012-05-09T17:42:36Z</td>\n      <td>1</td>\n    </tr>\n    <tr>\n      <th>4</th>\n      <td>Christian Steinruecken</td>\n      <td></td>\n      <td></td>\n      <td>1401.6410v1</td>\n      <td>Compressing Sets and Multisets of Sequences</td>\n      <td>2014-01-24T17:36:32Z</td>\n      <td>1</td>\n    </tr>\n    <tr>\n      <th>5</th>\n      <td>Rinovia Simanjuntak</td>\n      <td></td>\n      <td></td>\n      <td>1711.00225v2</td>\n      <td>The multiset dimension of graphs</td>\n      <td>2017-11-01T07:01:49Z</td>\n      <td>1</td>\n    </tr>\n    <tr>\n      <th>6</th>\n      <td>Presli Siagian</td>\n      <td></td>\n      <td></td>\n      <td>1711.00225v2</td>\n      <td>The multiset dimension of graphs</td>\n      <td>2017-11-01T07:01:49Z</td>\n      <td>1</td>\n    </tr>\n    <tr>\n      <th>7</th>\n      <td>Tomas Vetrik</td>\n      <td></td>\n      <td></td>\n      <td>1711.00225v2</td>\n      <td>The multiset dimension of graphs</td>\n      <td>2017-11-01T07:01:49Z</td>\n      <td>1</td>\n    </tr>\n    <tr>\n      <th>8</th>\n      <td>Boris L. Granovsky</td>\n      <td></td>\n      <td></td>\n      <td>0407322v3</td>\n      <td>Asymptotic enumeration and logical limit laws ...</td>\n      <td>2004-07-19T12:11:23Z</td>\n      <td>1</td>\n    </tr>\n    <tr>\n      <th>9</th>\n      <td>Dudley Stark</td>\n      <td></td>\n      <td></td>\n      <td>0407322v3</td>\n      <td>Asymptotic enumeration and logical limit laws ...</td>\n      <td>2004-07-19T12:11:23Z</td>\n      <td>1</td>\n    </tr>\n    <tr>\n      <th>10</th>\n      <td>Renzo Angles</td>\n      <td></td>\n      <td></td>\n      <td>1610.04315v1</td>\n      <td>The multiset semantics of SPARQL patterns</td>\n      <td>2016-10-14T03:19:54Z</td>\n      <td>1</td>\n    </tr>\n    <tr>\n      <th>11</th>\n      <td>Claudio Gutierrez</td>\n      <td></td>\n      <td></td>\n      <td>1610.04315v1</td>\n      <td>The multiset semantics of SPARQL patterns</td>\n      <td>2016-10-14T03:19:54Z</td>\n      <td>1</td>\n    </tr>\n  </tbody>\n</table>\n</div>"
     },
     "metadata": {},
     "execution_count": 26
    }
   ],
   "source": [
    "pd.set_option('display.max_rows', 78)\n",
    "df_multiset = shelf.get_authors_dataframe()\n",
    "df_multiset"
   ]
  },
  {
   "cell_type": "code",
   "execution_count": 27,
   "metadata": {
    "tags": []
   },
   "outputs": [
    {
     "output_type": "stream",
     "name": "stdout",
     "text": "Http can not retrieve the paper http://arxiv.org/pdf/0407322v3.pdf\n{'1101.5071v2': <pdftotext.PDF object at 0x119a2d1e0>,\n '1205.2046v1': <pdftotext.PDF object at 0x119a2d180>,\n '1401.6410v1': <pdftotext.PDF object at 0x119573c30>,\n '1610.04315v1': <pdftotext.PDF object at 0x119a2db10>,\n '1610.08027v1': <pdftotext.PDF object at 0x119573b40>,\n '1612.05468v1': <pdftotext.PDF object at 0x119a2d270>,\n '1711.00225v2': <pdftotext.PDF object at 0x119a2d210>}\n"
    }
   ],
   "source": [
    "dict_texts = shelf.fetch_texts()\n",
    "pprint(dict_texts)"
   ]
  }
 ],
 "metadata": {
  "language_info": {
   "codemirror_mode": {
    "name": "ipython",
    "version": 3
   },
   "file_extension": ".py",
   "mimetype": "text/x-python",
   "name": "python",
   "nbconvert_exporter": "python",
   "pygments_lexer": "ipython3",
   "version": "3.7.7-final"
  },
  "orig_nbformat": 2,
  "kernelspec": {
   "name": "python37764bitvenvvenvab0f665d5e6242889e1be50fddda4d67",
   "display_name": "Python 3.7.7 64-bit ('venv': venv)"
  }
 },
 "nbformat": 4,
 "nbformat_minor": 2
}