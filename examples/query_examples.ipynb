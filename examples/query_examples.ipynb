{
 "cells": [
  {
   "cell_type": "markdown",
   "metadata": {},
   "source": [
    "# Basic query examples"
   ]
  },
  {
   "cell_type": "markdown",
   "metadata": {},
   "source": [
    "## Example 1 \n",
    "\n",
    "Parse the authors name of the 14th paper in the paper list queried with \"particles\", and the following 10."
   ]
  },
  {
   "cell_type": "code",
   "execution_count": 1,
   "metadata": {},
   "outputs": [],
   "source": [
    "from pprint import pprint\n",
    "from scrapxiv.shelf import Shelf\n",
    "\n",
    "# from scrapxiv.parsers_utils import query_papers_to_dict, papers_dict_to_author_list, add_new_entries_to_df, papers_dict_to_list_of_papers_id\n",
    "\n",
    "shelf = Shelf()\n",
    "shelf.query(keywords=\"particles\", index=14, max_results=10)"
   ]
  },
  {
   "cell_type": "markdown",
   "metadata": {},
   "source": [
    "Get all the authors found in the query:"
   ]
  },
  {
   "cell_type": "code",
   "execution_count": 2,
   "metadata": {},
   "outputs": [
    {
     "output_type": "stream",
     "name": "stdout",
     "text": "{'affiliation': 'Washington University in St.Louis, MO',\n 'name': 'C. Barbieri',\n 'paper_id': 'http://arxiv.org/abs/nucl-th/0012055v1',\n 'paper_published_date': '2000-12-14T20:51:03Z',\n 'paper_title': 'Faddeev description of two-hole one-particle motion and '\n                'thesingle-particle spectral function'}\n{'affiliation': 'Washington University in St.Louis, MO',\n 'name': 'W. H. Dickhoff',\n 'paper_id': 'http://arxiv.org/abs/nucl-th/0012055v1',\n 'paper_published_date': '2000-12-14T20:51:03Z',\n 'paper_title': 'Faddeev description of two-hole one-particle motion and '\n                'thesingle-particle spectral function'}\n{'affiliation': 'Texas Tech University',\n 'name': 'S. Bhattacharya',\n 'paper_id': 'http://arxiv.org/abs/0802.0608v1',\n 'paper_published_date': '2008-02-05T13:03:03Z',\n 'paper_title': 'Effect of small particles on the near-wall dynamics of a '\n                'large particlein a highly bidisperse colloidal solution'}\n{'affiliation': 'Yale University',\n 'name': 'J. Blawzdziewicz',\n 'paper_id': 'http://arxiv.org/abs/0802.0608v1',\n 'paper_published_date': '2008-02-05T13:03:03Z',\n 'paper_title': 'Effect of small particles on the near-wall dynamics of a '\n                'large particlein a highly bidisperse colloidal solution'}\n{'affiliation': '',\n 'name': 'K K Singh',\n 'paper_id': 'http://arxiv.org/abs/1905.05638v1',\n 'paper_published_date': '2019-05-13T10:30:22Z',\n 'paper_title': 'Implications of detecting the Axion-Like Particles in '\n                'Astro-ParticlePhysics'}\n{'affiliation': '',\n 'name': 'Stewart McGinnis',\n 'paper_id': 'http://arxiv.org/abs/1908.06019v1',\n 'paper_published_date': '2019-08-12T22:49:39Z',\n 'paper_title': 'Multiparticle Dynamics on the Triangular Lattice in '\n                'Interacting Media'}\n{'affiliation': '',\n 'name': 'Benjamin Webb',\n 'paper_id': 'http://arxiv.org/abs/1908.06019v1',\n 'paper_published_date': '2019-08-12T22:49:39Z',\n 'paper_title': 'Multiparticle Dynamics on the Triangular Lattice in '\n                'Interacting Media'}\n{'affiliation': '',\n 'name': 'Frank Shaffer',\n 'paper_id': 'http://arxiv.org/abs/1311.1058v1',\n 'paper_published_date': '2013-11-01T17:34:22Z',\n 'paper_title': 'The Science and Beauty of Fluidization'}\n{'affiliation': '',\n 'name': 'Balaji Gopalan',\n 'paper_id': 'http://arxiv.org/abs/1311.1058v1',\n 'paper_published_date': '2013-11-01T17:34:22Z',\n 'paper_title': 'The Science and Beauty of Fluidization'}\n{'affiliation': '',\n 'name': 'Guiquan Wang',\n 'paper_id': 'http://arxiv.org/abs/1906.01779v1',\n 'paper_published_date': '2019-06-05T01:48:06Z',\n 'paper_title': 'Transport and two-way coupling effect of inertial particles '\n                'bylarge-scale and very-large-scale motions in turbulence'}\n{'affiliation': '',\n 'name': 'David Richter',\n 'paper_id': 'http://arxiv.org/abs/1906.01779v1',\n 'paper_published_date': '2019-06-05T01:48:06Z',\n 'paper_title': 'Transport and two-way coupling effect of inertial particles '\n                'bylarge-scale and very-large-scale motions in turbulence'}\n{'affiliation': '',\n 'name': 'Yongnam Park',\n 'paper_id': 'http://arxiv.org/abs/1406.5506v1',\n 'paper_published_date': '2014-06-21T01:23:37Z',\n 'paper_title': 'Gravity-driven clustering of inertial particles in turbulence'}\n{'affiliation': '',\n 'name': 'Changhoon Lee',\n 'paper_id': 'http://arxiv.org/abs/1406.5506v1',\n 'paper_published_date': '2014-06-21T01:23:37Z',\n 'paper_title': 'Gravity-driven clustering of inertial particles in turbulence'}\n{'affiliation': '',\n 'name': 'Mohamed Talbi',\n 'paper_id': 'http://arxiv.org/abs/1707.03205v1',\n 'paper_published_date': '2017-07-11T10:02:20Z',\n 'paper_title': 'Self-generated off-axis holography in interferometric '\n                'out-of-focusimaging of ice particles'}\n{'affiliation': '',\n 'name': 'Gérard Gréhan',\n 'paper_id': 'http://arxiv.org/abs/1707.03205v1',\n 'paper_published_date': '2017-07-11T10:02:20Z',\n 'paper_title': 'Self-generated off-axis holography in interferometric '\n                'out-of-focusimaging of ice particles'}\n{'affiliation': '',\n 'name': 'Marc Brunel',\n 'paper_id': 'http://arxiv.org/abs/1707.03205v1',\n 'paper_published_date': '2017-07-11T10:02:20Z',\n 'paper_title': 'Self-generated off-axis holography in interferometric '\n                'out-of-focusimaging of ice particles'}\n{'affiliation': '',\n 'name': 'David L. Frost',\n 'paper_id': 'http://arxiv.org/abs/1110.3090v2',\n 'paper_published_date': '2011-10-13T23:19:17Z',\n 'paper_title': 'Particle Jet Formation During Explosive Dispersal'}\n{'affiliation': '',\n 'name': 'Yann Grégoire',\n 'paper_id': 'http://arxiv.org/abs/1110.3090v2',\n 'paper_published_date': '2011-10-13T23:19:17Z',\n 'paper_title': 'Particle Jet Formation During Explosive Dispersal'}\n{'affiliation': '',\n 'name': 'Sam Goroshin',\n 'paper_id': 'http://arxiv.org/abs/1110.3090v2',\n 'paper_published_date': '2011-10-13T23:19:17Z',\n 'paper_title': 'Particle Jet Formation During Explosive Dispersal'}\n{'affiliation': '',\n 'name': 'Fan Zhang',\n 'paper_id': 'http://arxiv.org/abs/1110.3090v2',\n 'paper_published_date': '2011-10-13T23:19:17Z',\n 'paper_title': 'Particle Jet Formation During Explosive Dispersal'}\n{'affiliation': '',\n 'name': 'Marina Bendersky',\n 'paper_id': 'http://arxiv.org/abs/1506.05560v1',\n 'paper_published_date': '2015-06-18T07:06:42Z',\n 'paper_title': 'A computational study of chemically heterogeneous particles: '\n                'patchy vs.uniform particles in shear flow'}\n{'affiliation': '',\n 'name': 'Maria M. Santore',\n 'paper_id': 'http://arxiv.org/abs/1506.05560v1',\n 'paper_published_date': '2015-06-18T07:06:42Z',\n 'paper_title': 'A computational study of chemically heterogeneous particles: '\n                'patchy vs.uniform particles in shear flow'}\n{'affiliation': '',\n 'name': 'Jeffrey M. Davis',\n 'paper_id': 'http://arxiv.org/abs/1506.05560v1',\n 'paper_published_date': '2015-06-18T07:06:42Z',\n 'paper_title': 'A computational study of chemically heterogeneous particles: '\n                'patchy vs.uniform particles in shear flow'}\n"
    }
   ],
   "source": [
    "# returns a list of lists like [name, affiliation (if any), paper_id, paper_title, paper_published_date]\n",
    "for au in shelf.authors():\n",
    "    pprint(au)"
   ]
  },
  {
   "cell_type": "markdown",
   "metadata": {},
   "source": [
    "Get all the papers id (unique identifier to the paper url)"
   ]
  },
  {
   "cell_type": "code",
   "execution_count": 3,
   "metadata": {},
   "outputs": [
    {
     "output_type": "execute_result",
     "data": {
      "text/plain": "['http://arxiv.org/abs/nucl-th/0012055v1',\n 'http://arxiv.org/abs/0802.0608v1',\n 'http://arxiv.org/abs/1905.05638v1',\n 'http://arxiv.org/abs/1908.06019v1',\n 'http://arxiv.org/abs/1311.1058v1',\n 'http://arxiv.org/abs/1906.01779v1',\n 'http://arxiv.org/abs/1406.5506v1',\n 'http://arxiv.org/abs/1707.03205v1',\n 'http://arxiv.org/abs/1110.3090v2',\n 'http://arxiv.org/abs/1506.05560v1']"
     },
     "metadata": {},
     "execution_count": 3
    }
   ],
   "source": [
    "shelf.papers_ids()"
   ]
  },
  {
   "cell_type": "markdown",
   "metadata": {},
   "source": [
    "# Example 2\n",
    "Query authors data from the papers_dict of 30 papers, filtering with the keywords \"sub multisets\"."
   ]
  },
  {
   "cell_type": "code",
   "execution_count": 7,
   "metadata": {},
   "outputs": [
    {
     "output_type": "execute_result",
     "data": {
      "text/plain": "                       name affiliation                           paper_id  \\\n0     Jean-Baptiste Gramain               http://arxiv.org/abs/1101.5071v2   \n1            Jorn B. Olsson               http://arxiv.org/abs/1101.5071v2   \n2  Håkon Robbestad Gylterud              http://arxiv.org/abs/1612.05468v1   \n3            Mark Sh. Levin               http://arxiv.org/abs/1205.2046v1   \n4    Christian Steinruecken               http://arxiv.org/abs/1401.6410v1   \n5       Rinovia Simanjuntak              http://arxiv.org/abs/1711.00225v2   \n6            Presli Siagian              http://arxiv.org/abs/1711.00225v2   \n7              Tomas Vetrik              http://arxiv.org/abs/1711.00225v2   \n\n                                       paper_title  paper_published_date  \\\n0                     On bar lengths in partitions  2011-01-26T14:47:11Z   \n1                     On bar lengths in partitions  2011-01-26T14:47:11Z   \n2  From Multisets to Sets in Hotmotopy Type Theory  2016-12-16T13:52:57Z   \n3   Multiset Estimates and Combinatorial Synthesis  2012-05-09T17:42:36Z   \n4      Compressing Sets and Multisets of Sequences  2014-01-24T17:36:32Z   \n5                 The multiset dimension of graphs  2017-11-01T07:01:49Z   \n6                 The multiset dimension of graphs  2017-11-01T07:01:49Z   \n7                 The multiset dimension of graphs  2017-11-01T07:01:49Z   \n\n  num_publications  \n0                1  \n1                1  \n2                1  \n3                1  \n4                1  \n5                1  \n6                1  \n7                1  ",
      "text/html": "<div>\n<style scoped>\n    .dataframe tbody tr th:only-of-type {\n        vertical-align: middle;\n    }\n\n    .dataframe tbody tr th {\n        vertical-align: top;\n    }\n\n    .dataframe thead th {\n        text-align: right;\n    }\n</style>\n<table border=\"1\" class=\"dataframe\">\n  <thead>\n    <tr style=\"text-align: right;\">\n      <th></th>\n      <th>name</th>\n      <th>affiliation</th>\n      <th>paper_id</th>\n      <th>paper_title</th>\n      <th>paper_published_date</th>\n      <th>num_publications</th>\n    </tr>\n  </thead>\n  <tbody>\n    <tr>\n      <th>0</th>\n      <td>Jean-Baptiste Gramain</td>\n      <td></td>\n      <td>http://arxiv.org/abs/1101.5071v2</td>\n      <td>On bar lengths in partitions</td>\n      <td>2011-01-26T14:47:11Z</td>\n      <td>1</td>\n    </tr>\n    <tr>\n      <th>1</th>\n      <td>Jorn B. Olsson</td>\n      <td></td>\n      <td>http://arxiv.org/abs/1101.5071v2</td>\n      <td>On bar lengths in partitions</td>\n      <td>2011-01-26T14:47:11Z</td>\n      <td>1</td>\n    </tr>\n    <tr>\n      <th>2</th>\n      <td>Håkon Robbestad Gylterud</td>\n      <td></td>\n      <td>http://arxiv.org/abs/1612.05468v1</td>\n      <td>From Multisets to Sets in Hotmotopy Type Theory</td>\n      <td>2016-12-16T13:52:57Z</td>\n      <td>1</td>\n    </tr>\n    <tr>\n      <th>3</th>\n      <td>Mark Sh. Levin</td>\n      <td></td>\n      <td>http://arxiv.org/abs/1205.2046v1</td>\n      <td>Multiset Estimates and Combinatorial Synthesis</td>\n      <td>2012-05-09T17:42:36Z</td>\n      <td>1</td>\n    </tr>\n    <tr>\n      <th>4</th>\n      <td>Christian Steinruecken</td>\n      <td></td>\n      <td>http://arxiv.org/abs/1401.6410v1</td>\n      <td>Compressing Sets and Multisets of Sequences</td>\n      <td>2014-01-24T17:36:32Z</td>\n      <td>1</td>\n    </tr>\n    <tr>\n      <th>5</th>\n      <td>Rinovia Simanjuntak</td>\n      <td></td>\n      <td>http://arxiv.org/abs/1711.00225v2</td>\n      <td>The multiset dimension of graphs</td>\n      <td>2017-11-01T07:01:49Z</td>\n      <td>1</td>\n    </tr>\n    <tr>\n      <th>6</th>\n      <td>Presli Siagian</td>\n      <td></td>\n      <td>http://arxiv.org/abs/1711.00225v2</td>\n      <td>The multiset dimension of graphs</td>\n      <td>2017-11-01T07:01:49Z</td>\n      <td>1</td>\n    </tr>\n    <tr>\n      <th>7</th>\n      <td>Tomas Vetrik</td>\n      <td></td>\n      <td>http://arxiv.org/abs/1711.00225v2</td>\n      <td>The multiset dimension of graphs</td>\n      <td>2017-11-01T07:01:49Z</td>\n      <td>1</td>\n    </tr>\n  </tbody>\n</table>\n</div>"
     },
     "metadata": {},
     "execution_count": 7
    }
   ],
   "source": [
    "shelf = Shelf()\n",
    "shelf.query(keywords=\"sub multisets\", index=1, max_results=5)\n",
    "df_multiset = shelf.authors(as_dataframe=True)\n",
    "df_multiset"
   ]
  },
  {
   "cell_type": "markdown",
   "metadata": {},
   "source": [
    "To optimize resources, we can divide the downloads in 3 batches."
   ]
  },
  {
   "cell_type": "code",
   "execution_count": 8,
   "metadata": {},
   "outputs": [
    {
     "output_type": "stream",
     "name": "stdout",
     "text": "Processing batch 0\nProcessing batch 1\nProcessing batch 2\n"
    }
   ],
   "source": [
    "import pandas as pd\n",
    "\n",
    "\n",
    "batch_size = 10\n",
    "num_batches = 3\n",
    "shelf = Shelf()\n",
    "\n",
    "df_authors = pd.DataFrame()\n",
    "\n",
    "for j in range(num_batches):\n",
    "    print(\"Processing batch {}\".format(j))\n",
    "    shelf.query(keywords=\"sub multisets\", index=j * batch_size, max_results=batch_size)\n",
    "    df_batch = shelf.authors(as_dataframe=True)\n",
    "    if df_batch is not None:\n",
    "        df_authors = df_authors.append(df_batch, ignore_index=True)\n"
   ]
  },
  {
   "cell_type": "code",
   "execution_count": 10,
   "metadata": {},
   "outputs": [
    {
     "output_type": "execute_result",
     "data": {
      "text/plain": "                    name affiliation                           paper_id  \\\n0    Sebastiano Ferraris              http://arxiv.org/abs/1511.06142v1   \n1         Alex Mendelson              http://arxiv.org/abs/1511.06142v1   \n2       Gerardo Ballesio              http://arxiv.org/abs/1511.06142v1   \n3        Tom Vercauteren              http://arxiv.org/abs/1511.06142v1   \n4  Jean-Baptiste Gramain               http://arxiv.org/abs/1101.5071v2   \n\n                                   paper_title  paper_published_date  \\\n0  Counting sub-multisets of fixed cardinality  2015-11-19T12:44:42Z   \n1  Counting sub-multisets of fixed cardinality  2015-11-19T12:44:42Z   \n2  Counting sub-multisets of fixed cardinality  2015-11-19T12:44:42Z   \n3  Counting sub-multisets of fixed cardinality  2015-11-19T12:44:42Z   \n4                 On bar lengths in partitions  2011-01-26T14:47:11Z   \n\n  num_publications  \n0                1  \n1                1  \n2                1  \n3                1  \n4                1  ",
      "text/html": "<div>\n<style scoped>\n    .dataframe tbody tr th:only-of-type {\n        vertical-align: middle;\n    }\n\n    .dataframe tbody tr th {\n        vertical-align: top;\n    }\n\n    .dataframe thead th {\n        text-align: right;\n    }\n</style>\n<table border=\"1\" class=\"dataframe\">\n  <thead>\n    <tr style=\"text-align: right;\">\n      <th></th>\n      <th>name</th>\n      <th>affiliation</th>\n      <th>paper_id</th>\n      <th>paper_title</th>\n      <th>paper_published_date</th>\n      <th>num_publications</th>\n    </tr>\n  </thead>\n  <tbody>\n    <tr>\n      <th>0</th>\n      <td>Sebastiano Ferraris</td>\n      <td></td>\n      <td>http://arxiv.org/abs/1511.06142v1</td>\n      <td>Counting sub-multisets of fixed cardinality</td>\n      <td>2015-11-19T12:44:42Z</td>\n      <td>1</td>\n    </tr>\n    <tr>\n      <th>1</th>\n      <td>Alex Mendelson</td>\n      <td></td>\n      <td>http://arxiv.org/abs/1511.06142v1</td>\n      <td>Counting sub-multisets of fixed cardinality</td>\n      <td>2015-11-19T12:44:42Z</td>\n      <td>1</td>\n    </tr>\n    <tr>\n      <th>2</th>\n      <td>Gerardo Ballesio</td>\n      <td></td>\n      <td>http://arxiv.org/abs/1511.06142v1</td>\n      <td>Counting sub-multisets of fixed cardinality</td>\n      <td>2015-11-19T12:44:42Z</td>\n      <td>1</td>\n    </tr>\n    <tr>\n      <th>3</th>\n      <td>Tom Vercauteren</td>\n      <td></td>\n      <td>http://arxiv.org/abs/1511.06142v1</td>\n      <td>Counting sub-multisets of fixed cardinality</td>\n      <td>2015-11-19T12:44:42Z</td>\n      <td>1</td>\n    </tr>\n    <tr>\n      <th>4</th>\n      <td>Jean-Baptiste Gramain</td>\n      <td></td>\n      <td>http://arxiv.org/abs/1101.5071v2</td>\n      <td>On bar lengths in partitions</td>\n      <td>2011-01-26T14:47:11Z</td>\n      <td>1</td>\n    </tr>\n  </tbody>\n</table>\n</div>"
     },
     "metadata": {},
     "execution_count": 10
    }
   ],
   "source": [
    "df_authors.head()"
   ]
  },
  {
   "cell_type": "code",
   "execution_count": null,
   "metadata": {},
   "outputs": [],
   "source": []
  }
 ],
 "metadata": {
  "language_info": {
   "codemirror_mode": {
    "name": "ipython",
    "version": 3
   },
   "file_extension": ".py",
   "mimetype": "text/x-python",
   "name": "python",
   "nbconvert_exporter": "python",
   "pygments_lexer": "ipython3",
   "version": "3.8.1-final"
  },
  "orig_nbformat": 2,
  "kernelspec": {
   "name": "python38164bitvenvvirtualenv9c48974b4cc547d281478ffe88dc3f40",
   "display_name": "Python 3.8.1 64-bit ('venv': virtualenv)"
  }
 },
 "nbformat": 4,
 "nbformat_minor": 2
}