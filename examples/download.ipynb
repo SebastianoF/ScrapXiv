{
 "cells": [
  {
   "cell_type": "markdown",
   "metadata": {},
   "source": [
    "# Download Examples"
   ]
  },
  {
   "cell_type": "markdown",
   "metadata": {},
   "source": [
    "## Example 1\n",
    "\n",
    "Download 10 papers queried with a given keyword and id."
   ]
  },
  {
   "cell_type": "code",
   "execution_count": 1,
   "metadata": {},
   "outputs": [
    {
     "output_type": "stream",
     "name": "stdout",
     "text": "Paper http://arxiv.org/pdf/1101.5071v2.pdf downloaded to /home/savoy/repos/arxiv_authors_parser/tmp/1101.5071v2.pdf.\nPaper http://arxiv.org/pdf/1612.05468v1.pdf downloaded to /home/savoy/repos/arxiv_authors_parser/tmp/1612.05468v1.pdf.\nPaper http://arxiv.org/pdf/1205.2046v1.pdf downloaded to /home/savoy/repos/arxiv_authors_parser/tmp/1205.2046v1.pdf.\nPaper http://arxiv.org/pdf/1401.6410v1.pdf downloaded to /home/savoy/repos/arxiv_authors_parser/tmp/1401.6410v1.pdf.\nPaper http://arxiv.org/pdf/1711.00225v2.pdf downloaded to /home/savoy/repos/arxiv_authors_parser/tmp/1711.00225v2.pdf.\n"
    }
   ],
   "source": [
    "from scrapxiv.shelf import Shelf\n",
    "\n",
    "shelf = Shelf()\n",
    "shelf.query(keywords=\"sub multisets\", index=1, max_results=5)\n",
    "shelf.download_papers()"
   ]
  },
  {
   "cell_type": "markdown",
   "metadata": {},
   "source": [
    "## Example 2\n",
    "\n",
    "Of the downloaded pages, parse the text as strings, and query the relevant information."
   ]
  },
  {
   "cell_type": "code",
   "execution_count": 2,
   "metadata": {},
   "outputs": [],
   "source": [
    "texts = shelf.fetch_texts()\n",
    "info = shelf.papers_info()"
   ]
  },
  {
   "cell_type": "code",
   "execution_count": 3,
   "metadata": {},
   "outputs": [
    {
     "output_type": "execute_result",
     "data": {
      "text/plain": "{'1711.00225v2': <pdftotext.PDF at 0x7f65ebbda330>,\n '1401.6410v1': <pdftotext.PDF at 0x7f65ec640b70>,\n '1205.2046v1': <pdftotext.PDF at 0x7f65ec640810>,\n '1101.5071v2': <pdftotext.PDF at 0x7f65ec640bd0>,\n '1612.05468v1': <pdftotext.PDF at 0x7f65ec640750>}"
     },
     "metadata": {},
     "execution_count": 3
    }
   ],
   "source": [
    "texts"
   ]
  },
  {
   "cell_type": "code",
   "execution_count": 4,
   "metadata": {},
   "outputs": [
    {
     "output_type": "execute_result",
     "data": {
      "text/plain": "{'1101.5071v2': {'title': 'On bar lengths in partitions',\n  'date': '2011-01-26T14:47:11Z',\n  'authors': ['Jean-Baptiste Gramain', 'Jorn B. Olsson']},\n '1612.05468v1': {'title': 'From Multisets to Sets in Hotmotopy Type Theory',\n  'date': '2016-12-16T13:52:57Z',\n  'authors': ['Håkon Robbestad Gylterud']},\n '1205.2046v1': {'title': 'Multiset Estimates and Combinatorial Synthesis',\n  'date': '2012-05-09T17:42:36Z',\n  'authors': ['Mark Sh. Levin']},\n '1401.6410v1': {'title': 'Compressing Sets and Multisets of Sequences',\n  'date': '2014-01-24T17:36:32Z',\n  'authors': ['Christian Steinruecken']},\n '1711.00225v2': {'title': 'The multiset dimension of graphs',\n  'date': '2017-11-01T07:01:49Z',\n  'authors': ['Rinovia Simanjuntak', 'Presli Siagian', 'Tomas Vetrik']}}"
     },
     "metadata": {},
     "execution_count": 4
    }
   ],
   "source": [
    "info"
   ]
  },
  {
   "cell_type": "markdown",
   "metadata": {},
   "source": [
    "## Example 3\n",
    "\n",
    "Get the number of pages of the queried paper 'On bar lengths in partitions' and get the text of the first page."
   ]
  },
  {
   "cell_type": "code",
   "execution_count": 5,
   "metadata": {},
   "outputs": [
    {
     "output_type": "execute_result",
     "data": {
      "text/plain": "16"
     },
     "metadata": {},
     "execution_count": 5
    }
   ],
   "source": [
    "paper_id = None\n",
    "\n",
    "for k in info.keys():\n",
    "    if info[k]['title'] == 'On bar lengths in partitions':\n",
    "        paper_id = k\n",
    "\n",
    "len(texts[paper_id])"
   ]
  },
  {
   "cell_type": "code",
   "execution_count": 6,
   "metadata": {},
   "outputs": [
    {
     "output_type": "stream",
     "name": "stdout",
     "text": "ON BAR LENGTHS IN PARTITIONS\n                                                         JEAN-BAPTISTE GRAMAIN AND JØRN B. OLSSON\narXiv:1101.5071v2 [math.CO] 22 Apr 2011\n                                                  Abstract. In this paper, we present, given a odd integer d, a decom-\n                                                  position of the multiset of bar lengths of a bar partition λ as the union\n                                                                                                             ¯\n                                                  of two multisets, one consisting of the bar lengths in its d-core partition\n                                                                                                                   ¯\n                                                  c̄d (λ) and the other consisting of modified bar lengths in its d-quotient\n                                                  partition. In particular, we obtain that the multiset of bar lengths in\n                                                  c̄d (λ) is a sub-multiset of the multiset of bar lengths in λ. Also, we\n                                                  obtain a relative bar formula for the degrees of spin characters of the\n                                                  Schur extensions of Sn . The proof involves a recent similar result for\n                                                  partitions, proved in [1].\n                                                                           1. Introduction\n                                             For any positive integer n, we call any partition λ of n into distinct parts\n                                          a bar partition of n. It was proved by I. Schur (in [7]) that the bar partitions\n                                          of n canonically label the associate classes of irreducible projective repre-\n                                          sentations of the symmetric group Sn , or the associate classes of faithful\n                                          irreducible characters (spin characters) of a 2-fold covering group S cn of Sn .\n                                             In [4, Theorem 1], A.O. Morris proved a formula (the bar formula) for\n                                          the degrees of the spin characters analogous to the celebrated hook formula\n                                          ([2, Theorem 2.3.21]) for the irreducible characters of Sn . The bar formula\n                                          is a reformulation of the original degree formula proved by Schur in [7, IX,\n                                          p.235]. We state the bar formula below. In the bar formula the role played\n                                          by hooks and hook lengths of partitions is replaced by bars and bar lengths\n                                          of bar partitions.\n                                             If λ = (a1 > · · · > am > 0) is a bar partition of n, then the multiset of\n                                          bar lengths in λ is\n                                                             [\n                                                 B(λ) =           {1, . . . , ai } ∪ {ai + aj | j > i} \\ {ai − aj | j > i}.\n                                                           1≤i≤m\n                                            2000 Mathematics Subject Classification 20C30 (primary), 20C15, 20C20 (secondary)\n                                            Keywords: Partitions, Bar Partitions, Bar Lengths, Symmetric Group, Covering\n                                          Groups\n                                                                                      1\n\n"
    }
   ],
   "source": [
    "print(texts[paper_id][0])"
   ]
  },
  {
   "cell_type": "code",
   "execution_count": null,
   "metadata": {},
   "outputs": [],
   "source": []
  }
 ],
 "metadata": {
  "language_info": {
   "codemirror_mode": {
    "name": "ipython",
    "version": 3
   },
   "file_extension": ".py",
   "mimetype": "text/x-python",
   "name": "python",
   "nbconvert_exporter": "python",
   "pygments_lexer": "ipython3",
   "version": "3.8.1-final"
  },
  "orig_nbformat": 2,
  "kernelspec": {
   "name": "python38164bitvenvvirtualenv9c48974b4cc547d281478ffe88dc3f40",
   "display_name": "Python 3.8.1 64-bit ('venv': virtualenv)"
  }
 },
 "nbformat": 4,
 "nbformat_minor": 2
}