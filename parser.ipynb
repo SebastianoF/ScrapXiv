{
 "cells": [
  {
   "cell_type": "markdown",
   "metadata": {},
   "source": [
    "## Example to parse the 14th element in the paper list queried with \"particles\""
   ]
  },
  {
   "cell_type": "code",
   "execution_count": 1,
   "metadata": {},
   "outputs": [
    {
     "output_type": "stream",
     "name": "stdout",
     "text": "[{'name': 'C. Barbieri', 'affiliation': 'Washington University in St.Louis, MO', 'paper_id': 'http://arxiv.org/abs/nucl-th/0012055v1', 'paper_title': 'Faddeev description of two-hole one-particle motion and thesingle-particle spectral function', 'paper_published_date': '2000-12-14T20:51:03Z'}, {'name': 'W. H. Dickhoff', 'affiliation': 'Washington University in St.Louis, MO', 'paper_id': 'http://arxiv.org/abs/nucl-th/0012055v1', 'paper_title': 'Faddeev description of two-hole one-particle motion and thesingle-particle spectral function', 'paper_published_date': '2000-12-14T20:51:03Z'}, {'name': 'S. Bhattacharya', 'affiliation': 'Texas Tech University', 'paper_id': 'http://arxiv.org/abs/0802.0608v1', 'paper_title': 'Effect of small particles on the near-wall dynamics of a large particlein a highly bidisperse colloidal solution', 'paper_published_date': '2008-02-05T13:03:03Z'}, {'name': 'J. Blawzdziewicz', 'affiliation': 'Yale University', 'paper_id': 'http://arxiv.org/abs/0802.0608v1', 'paper_title': 'Effect of small particles on the near-wall dynamics of a large particlein a highly bidisperse colloidal solution', 'paper_published_date': '2008-02-05T13:03:03Z'}, {'name': 'K K Singh', 'affiliation': '', 'paper_id': 'http://arxiv.org/abs/1905.05638v1', 'paper_title': 'Implications of detecting the Axion-Like Particles in Astro-ParticlePhysics', 'paper_published_date': '2019-05-13T10:30:22Z'}]\n"
    }
   ],
   "source": [
    "from pprint import pprint\n",
    "from parsers_utils import get_paper_dict, paper_dict_to_author_list\n",
    "\n",
    "\n",
    "dd = get_paper_dict(index=14, query=\"particles\", max_result=3)  # leave query to None to query all the results.\n",
    "authors = paper_dict_to_author_list(dd)\n",
    "\n",
    "# returns a list of lists like [name, affiliation (if any), paper_id, paper_title, paper_published_date]\n",
    "print(authors)"
   ]
  },
  {
   "cell_type": "code",
   "execution_count": 2,
   "metadata": {},
   "outputs": [
    {
     "output_type": "stream",
     "name": "stdout",
     "text": "0\n[{'name': 'Sebastiano Ferraris', 'affiliation': '', 'paper_id': 'http://arxiv.org/abs/1511.06142v1', 'paper_title': 'Counting sub-multisets of fixed cardinality', 'paper_published_date': '2015-11-19T12:44:42Z'}, {'name': 'Alex Mendelson', 'affiliation': '', 'paper_id': 'http://arxiv.org/abs/1511.06142v1', 'paper_title': 'Counting sub-multisets of fixed cardinality', 'paper_published_date': '2015-11-19T12:44:42Z'}, {'name': 'Gerardo Ballesio', 'affiliation': '', 'paper_id': 'http://arxiv.org/abs/1511.06142v1', 'paper_title': 'Counting sub-multisets of fixed cardinality', 'paper_published_date': '2015-11-19T12:44:42Z'}, {'name': 'Tom Vercauteren', 'affiliation': '', 'paper_id': 'http://arxiv.org/abs/1511.06142v1', 'paper_title': 'Counting sub-multisets of fixed cardinality', 'paper_published_date': '2015-11-19T12:44:42Z'}, {'name': 'Jean-Baptiste Gramain', 'affiliation': '', 'paper_id': 'http://arxiv.org/abs/1101.5071v2', 'paper_title': 'On bar lengths in partitions', 'paper_published_date': '2011-01-26T14:47:11Z'}, {'name': 'Jorn B. Olsson', 'affiliation': '', 'paper_id': 'http://arxiv.org/abs/1101.5071v2', 'paper_title': 'On bar lengths in partitions', 'paper_published_date': '2011-01-26T14:47:11Z'}, {'name': 'Håkon Robbestad Gylterud', 'affiliation': '', 'paper_id': 'http://arxiv.org/abs/1612.05468v1', 'paper_title': 'From Multisets to Sets in Hotmotopy Type Theory', 'paper_published_date': '2016-12-16T13:52:57Z'}, {'name': 'Mark Sh. Levin', 'affiliation': '', 'paper_id': 'http://arxiv.org/abs/1205.2046v1', 'paper_title': 'Multiset Estimates and Combinatorial Synthesis', 'paper_published_date': '2012-05-09T17:42:36Z'}, {'name': 'Christian Steinruecken', 'affiliation': '', 'paper_id': 'http://arxiv.org/abs/1401.6410v1', 'paper_title': 'Compressing Sets and Multisets of Sequences', 'paper_published_date': '2014-01-24T17:36:32Z'}, {'name': 'Rinovia Simanjuntak', 'affiliation': '', 'paper_id': 'http://arxiv.org/abs/1711.00225v2', 'paper_title': 'The multiset dimension of graphs', 'paper_published_date': '2017-11-01T07:01:49Z'}, {'name': 'Presli Siagian', 'affiliation': '', 'paper_id': 'http://arxiv.org/abs/1711.00225v2', 'paper_title': 'The multiset dimension of graphs', 'paper_published_date': '2017-11-01T07:01:49Z'}, {'name': 'Tomas Vetrik', 'affiliation': '', 'paper_id': 'http://arxiv.org/abs/1711.00225v2', 'paper_title': 'The multiset dimension of graphs', 'paper_published_date': '2017-11-01T07:01:49Z'}, {'name': 'Boris L. Granovsky', 'affiliation': '', 'paper_id': 'http://arxiv.org/abs/math/0407322v3', 'paper_title': 'Asymptotic enumeration and logical limit laws for expansive multisetsand selections', 'paper_published_date': '2004-07-19T12:11:23Z'}, {'name': 'Dudley Stark', 'affiliation': '', 'paper_id': 'http://arxiv.org/abs/math/0407322v3', 'paper_title': 'Asymptotic enumeration and logical limit laws for expansive multisetsand selections', 'paper_published_date': '2004-07-19T12:11:23Z'}, {'name': 'Renzo Angles', 'affiliation': '', 'paper_id': 'http://arxiv.org/abs/1610.04315v1', 'paper_title': 'The multiset semantics of SPARQL patterns', 'paper_published_date': '2016-10-14T03:19:54Z'}, {'name': 'Claudio Gutierrez', 'affiliation': '', 'paper_id': 'http://arxiv.org/abs/1610.04315v1', 'paper_title': 'The multiset semantics of SPARQL patterns', 'paper_published_date': '2016-10-14T03:19:54Z'}, {'name': 'Håkon Robbestad Gylterud', 'affiliation': '', 'paper_id': 'http://arxiv.org/abs/1610.08027v1', 'paper_title': 'Multisets in Type Theory', 'paper_published_date': '2016-10-25T19:24:41Z'}, {'name': 'Sean Welleck', 'affiliation': '', 'paper_id': 'http://arxiv.org/abs/1711.05246v2', 'paper_title': 'Loss Functions for Multiset Prediction', 'paper_published_date': '2017-11-14T18:43:22Z'}, {'name': 'Zixin Yao', 'affiliation': '', 'paper_id': 'http://arxiv.org/abs/1711.05246v2', 'paper_title': 'Loss Functions for Multiset Prediction', 'paper_published_date': '2017-11-14T18:43:22Z'}, {'name': 'Yu Gai', 'affiliation': '', 'paper_id': 'http://arxiv.org/abs/1711.05246v2', 'paper_title': 'Loss Functions for Multiset Prediction', 'paper_published_date': '2017-11-14T18:43:22Z'}, {'name': 'Jialin Mao', 'affiliation': '', 'paper_id': 'http://arxiv.org/abs/1711.05246v2', 'paper_title': 'Loss Functions for Multiset Prediction', 'paper_published_date': '2017-11-14T18:43:22Z'}, {'name': 'Zheng Zhang', 'affiliation': '', 'paper_id': 'http://arxiv.org/abs/1711.05246v2', 'paper_title': 'Loss Functions for Multiset Prediction', 'paper_published_date': '2017-11-14T18:43:22Z'}, {'name': 'Kyunghyun Cho', 'affiliation': '', 'paper_id': 'http://arxiv.org/abs/1711.05246v2', 'paper_title': 'Loss Functions for Multiset Prediction', 'paper_published_date': '2017-11-14T18:43:22Z'}]\n"
    }
   ],
   "source": [
    "import pandas as pd\n",
    "\n",
    "def add_new_entries_to_df(df, new_entries_list):\n",
    "    if df is None:\n",
    "        df = pd.DataFrame(columns=['name', 'affiliations', 'urls', 'titles', 'publications', 'publications date', 'num publications'])\n",
    "\n",
    "    series = pd.Series()\n",
    "\n",
    "    df.append(series, ignore_index=True, sort=False)\n",
    "\n",
    "\n",
    "\n",
    "batch_size = 10\n",
    "num_batches = 1\n",
    "df = None\n",
    "for j in range(num_batches):\n",
    "    print(j)\n",
    "    dd = get_paper_dict(index=j * batch_size, query=\"sub multisets\", max_result=batch_size)  # leave query to None to query all the results.\n",
    "    batch_authors = paper_dict_to_author_list(dd)\n",
    "    print(batch_authors)\n",
    "    # df = add_new_entries_to_df(df, batch_authors)"
   ]
  },
  {
   "cell_type": "code",
   "execution_count": 3,
   "metadata": {},
   "outputs": [],
   "source": [
    "def send_to_google_sheets(df):\n",
    "    pass\n",
    "    \n",
    "\n",
    "# https://towardsdatascience.com/using-python-to-push-your-pandas-dataframe-to-google-sheets-de69422508f"
   ]
  },
  {
   "cell_type": "code",
   "execution_count": 4,
   "metadata": {},
   "outputs": [],
   "source": [
    "import pandas as pd\n",
    "\n",
    "# def add_new_entries_to_df(df, new_entries_list):\n",
    "#     if df is None:\n",
    "#         df = pd.DataFrame(columns=['name', 'affiliation', 'paper_id', 'paper_title', 'paper_published_date', 'num_publications'])\n",
    "\n",
    "#     for \n",
    "\n",
    "#     series = pd.Series()\n",
    "\n",
    "#     df.append(series, ignore_index=True, sort=False)\n",
    "\n",
    "\n",
    "\n",
    "\n",
    "\n"
   ]
  },
  {
   "cell_type": "code",
   "execution_count": 42,
   "metadata": {},
   "outputs": [],
   "source": [
    "\n",
    "df = pd.DataFrame(columns=['name', 'affiliation', 'paper_id', 'paper_title', 'paper_published_date', 'num_publications'])\n",
    "\n",
    "batch_authors[0].update({'num_publications': 1})\n",
    "new = batch_authors[0]\n",
    "\n",
    "\n",
    "if len(df[df['name'] == new['name']].index) == 0:\n",
    "    df = df.append(pd.Series(new), ignore_index=True)\n",
    "elif len(df[df['name'] == aa['name']].index) == 1:\n",
    "    row = df[df['name'] == aa['name']].index[0]\n",
    "    if new['affiliation']:\n",
    "        df.loc[0]['affiliation'] += '; ' + new['affiliation']\n",
    "    for col in ['paper_id', 'paper_title', 'paper_published_date']:\n",
    "        df.loc[0][col] += '; ' + new[col]\n",
    "    df.loc[0]['num_publications'] += 1\n",
    "else: \n",
    "    raise ValueError\n"
   ]
  },
  {
   "cell_type": "code",
   "execution_count": 43,
   "metadata": {},
   "outputs": [
    {
     "output_type": "execute_result",
     "data": {
      "text/plain": "                  name affiliation  \\\n0  Sebastiano Ferraris        ; ;    \n\n                                            paper_id  \\\n0  http://arxiv.org/abs/1511.06142v1; http://arxi...   \n\n                                         paper_title  \\\n0  Counting sub-multisets of fixed cardinality; C...   \n\n                                paper_published_date num_publications  \n0  2015-11-19T12:44:42Z; 2015-11-19T12:44:42Z; 20...                2  ",
      "text/html": "<div>\n<style scoped>\n    .dataframe tbody tr th:only-of-type {\n        vertical-align: middle;\n    }\n\n    .dataframe tbody tr th {\n        vertical-align: top;\n    }\n\n    .dataframe thead th {\n        text-align: right;\n    }\n</style>\n<table border=\"1\" class=\"dataframe\">\n  <thead>\n    <tr style=\"text-align: right;\">\n      <th></th>\n      <th>name</th>\n      <th>affiliation</th>\n      <th>paper_id</th>\n      <th>paper_title</th>\n      <th>paper_published_date</th>\n      <th>num_publications</th>\n    </tr>\n  </thead>\n  <tbody>\n    <tr>\n      <th>0</th>\n      <td>Sebastiano Ferraris</td>\n      <td>; ;</td>\n      <td>http://arxiv.org/abs/1511.06142v1; http://arxi...</td>\n      <td>Counting sub-multisets of fixed cardinality; C...</td>\n      <td>2015-11-19T12:44:42Z; 2015-11-19T12:44:42Z; 20...</td>\n      <td>2</td>\n    </tr>\n  </tbody>\n</table>\n</div>"
     },
     "metadata": {},
     "execution_count": 43
    }
   ],
   "source": [
    "df"
   ]
  },
  {
   "cell_type": "code",
   "execution_count": null,
   "metadata": {},
   "outputs": [],
   "source": []
  }
 ],
 "metadata": {
  "language_info": {
   "codemirror_mode": {
    "name": "ipython",
    "version": 3
   },
   "file_extension": ".py",
   "mimetype": "text/x-python",
   "name": "python",
   "nbconvert_exporter": "python",
   "pygments_lexer": "ipython3",
   "version": "3.8.1-final"
  },
  "orig_nbformat": 2,
  "kernelspec": {
   "name": "python38164bitvenvvirtualenv9c48974b4cc547d281478ffe88dc3f40",
   "display_name": "Python 3.8.1 64-bit ('venv': virtualenv)"
  }
 },
 "nbformat": 4,
 "nbformat_minor": 2
}